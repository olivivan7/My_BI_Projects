{
 "cells": [
  {
   "cell_type": "markdown",
   "metadata": {
    "id": "bgc8yb4c2W0g"
   },
   "source": [
    "# Recurrent Neural Network - LSTM\n"
   ]
  },
  {
   "cell_type": "markdown",
   "metadata": {
    "id": "aew2N81e35Uc"
   },
   "source": [
    "## Parte 1 - Preprocessamento de Dados"
   ]
  },
  {
   "cell_type": "markdown",
   "metadata": {
    "id": "Z0vulSxH2hHu"
   },
   "source": [
    "### Importar as bibliotecas"
   ]
  },
  {
   "cell_type": "code",
   "execution_count": 37,
   "metadata": {
    "id": "p2SjiqlE2O08"
   },
   "outputs": [],
   "source": [
    "#%tensorflow_version 1.x\n",
    "import tensorflow\n",
    "import numpy as np\n",
    "import matplotlib.pyplot as plt\n",
    "import pandas as pd\n",
    "import os"
   ]
  },
  {
   "cell_type": "markdown",
   "metadata": {
    "id": "36Q16Udt2l3W"
   },
   "source": [
    "### Importar a base de dados"
   ]
  },
  {
   "cell_type": "code",
   "execution_count": 38,
   "metadata": {
    "id": "1ivhnWxD2eEG"
   },
   "outputs": [],
   "source": [
    "dataset_train = pd.read_csv('train.csv')\n",
    "training_set = dataset_train.iloc[:, 1:2].values #só coluna da série em si"
   ]
  },
  {
   "cell_type": "markdown",
   "metadata": {
    "id": "kd39T1zK2ql1"
   },
   "source": [
    "### gráfico da série temporal"
   ]
  },
  {
   "cell_type": "code",
   "execution_count": 39,
   "metadata": {
    "colab": {
     "base_uri": "https://localhost:8080/",
     "height": 295
    },
    "id": "vMsAFuya2rhr",
    "outputId": "0434b7ef-921a-4b90-f843-e433260edaa0"
   },
   "outputs": [
    {
     "data": {
      "image/png": "[encoded data removed]",
      "text/plain": [
       "<Figure size 432x288 with 1 Axes>"
      ]
     },
     "metadata": {
      "needs_background": "light"
     },
     "output_type": "display_data"
    }
   ],
   "source": [
    "plt.plot(training_set)\n",
    "plt.xlabel(\"tempo\")\n",
    "plt.ylabel(\"numero mortes\")\n",
    "plt.title(\"Doenças pulmonares\")\n",
    "plt.show()"
   ]
  },
  {
   "cell_type": "markdown",
   "metadata": {
    "id": "7p1F7HdB2uJU"
   },
   "source": [
    "### Normalização"
   ]
  },
  {
   "cell_type": "code",
   "execution_count": 40,
   "metadata": {
    "id": "foeHRZr-2u-L"
   },
   "outputs": [
    {
     "name": "stderr",
     "output_type": "stream",
     "text": [
      "/home/jupyterlab/conda/envs/python/lib/python3.6/site-packages/sklearn/utils/validation.py:595: DataConversionWarning: Data with input dtype int64 was converted to float64 by MinMaxScaler.\n",
      "  warnings.warn(msg, DataConversionWarning)\n"
     ]
    }
   ],
   "source": [
    "from sklearn.preprocessing import MinMaxScaler\n",
    "sc = MinMaxScaler(feature_range = (0, 1))\n",
    "training_set_scaled = sc.fit_transform(training_set)"
   ]
  },
  {
   "cell_type": "markdown",
   "metadata": {
    "id": "uQP8Q7MI21Y9"
   },
   "source": [
    "### Criar a estrutura de dados com janela 10 e output 1"
   ]
  },
  {
   "cell_type": "code",
   "execution_count": 41,
   "metadata": {
    "id": "C6Ge9ql922cb"
   },
   "outputs": [],
   "source": [
    "window = 10\n",
    "trainSize = len(training_set_scaled)\n",
    "X_train = []\n",
    "y_train = []\n",
    "for i in range(window, trainSize):\n",
    "    X_train.append(training_set_scaled[i-window:i, 0])\n",
    "    y_train.append(training_set_scaled[i, 0])\n",
    "X_train, y_train = np.array(X_train), np.array(y_train)"
   ]
  },
  {
   "cell_type": "markdown",
   "metadata": {
    "id": "LPBC2LoG24dU"
   },
   "source": [
    "### Reshaping"
   ]
  },
  {
   "cell_type": "code",
   "execution_count": 42,
   "metadata": {
    "colab": {
     "base_uri": "https://localhost:8080/"
    },
    "id": "oGwgQUDbdmnS",
    "outputId": "27f47272-a095-4111-a7be-e9c869418251"
   },
   "outputs": [
    {
     "data": {
      "text/plain": [
       "(50, 10)"
      ]
     },
     "execution_count": 42,
     "metadata": {},
     "output_type": "execute_result"
    }
   ],
   "source": [
    "X_train.shape"
   ]
  },
  {
   "cell_type": "code",
   "execution_count": 43,
   "metadata": {
    "id": "b9ZfLlGH25fr"
   },
   "outputs": [],
   "source": [
    "X_train = np.reshape(X_train, (X_train.shape[0], X_train.shape[1], 1))"
   ]
  },
  {
   "cell_type": "code",
   "execution_count": 44,
   "metadata": {
    "colab": {
     "base_uri": "https://localhost:8080/"
    },
    "id": "RxU0axM9diHO",
    "outputId": "1208b4f5-3486-4441-db05-7e8e240568ac"
   },
   "outputs": [
    {
     "data": {
      "text/plain": [
       "(50, 10, 1)"
      ]
     },
     "execution_count": 44,
     "metadata": {},
     "output_type": "execute_result"
    }
   ],
   "source": [
    "X_train.shape"
   ]
  },
  {
   "cell_type": "markdown",
   "metadata": {
    "id": "fZhjp7Tf282b"
   },
   "source": [
    "## Parte 2 - Construção da RNN"
   ]
  },
  {
   "cell_type": "markdown",
   "metadata": {
    "id": "RDkAxmMl3EXr"
   },
   "source": [
    "### Bibliotecas necessárias"
   ]
  },
  {
   "cell_type": "code",
   "execution_count": 45,
   "metadata": {
    "id": "Ifhh9yUo3DpT"
   },
   "outputs": [],
   "source": [
    "from keras.models import Sequential\n",
    "from keras.layers import Dense\n",
    "from keras.layers import LSTM\n",
    "from keras.layers import Dropout"
   ]
  },
  {
   "cell_type": "markdown",
   "metadata": {
    "id": "kordpD0_3H7b"
   },
   "source": [
    "### Construção da Rede completa"
   ]
  },
  {
   "cell_type": "code",
   "execution_count": 46,
   "metadata": {
    "colab": {
     "base_uri": "https://localhost:8080/"
    },
    "id": "EskB17uo3Iso",
    "outputId": "0f702315-d9ef-4972-aa84-ecff0b328d17"
   },
   "outputs": [
    {
     "name": "stdout",
     "output_type": "stream",
     "text": [
      "_________________________________________________________________\n",
      "Layer (type)                 Output Shape              Param #   \n",
      "=================================================================\n",
      "lstm_6 (LSTM)                (None, 10, 160)           103680    \n",
      "_________________________________________________________________\n",
      "dropout_6 (Dropout)          (None, 10, 160)           0         \n",
      "_________________________________________________________________\n",
      "lstm_7 (LSTM)                (None, 10, 80)            77120     \n",
      "_________________________________________________________________\n",
      "dropout_7 (Dropout)          (None, 10, 80)            0         \n",
      "_________________________________________________________________\n",
      "lstm_8 (LSTM)                (None, 96)                67968     \n",
      "_________________________________________________________________\n",
      "dropout_8 (Dropout)          (None, 96)                0         \n",
      "_________________________________________________________________\n",
      "dense_3 (Dense)              (None, 1)                 97        \n",
      "=================================================================\n",
      "Total params: 248,865\n",
      "Trainable params: 248,865\n",
      "Non-trainable params: 0\n",
      "_________________________________________________________________\n"
     ]
    }
   ],
   "source": [
    "# Inicializar a RNN\n",
    "regressor = Sequential()\n",
    "\n",
    "# Adicionar a primeira camada LSTM e Dropout \n",
    "regressor.add(LSTM(units = 160, return_sequences = True, input_shape = (X_train.shape[1], 1)))\n",
    "regressor.add(Dropout(0.2))\n",
    " \n",
    "# Adicionar a segunda camada LSTM e Dropout\n",
    "regressor.add(LSTM(units = 80, return_sequences = True))\n",
    "regressor.add(Dropout(0.2))\n",
    " \n",
    "# Adicionar a terceira camada LSTM e Dropout\n",
    "regressor.add(LSTM(units = 96, return_sequences = False))\n",
    "regressor.add(Dropout(0.2))\n",
    " \n",
    "# camada de saída\n",
    "regressor.add(Dense(units = 1))\n",
    " \n",
    "# Compilar a rede\n",
    "regressor.compile(optimizer = 'adam', loss = 'mean_squared_error')\n",
    "\n",
    "# Visualizar a rede\n",
    "regressor.summary()"
   ]
  },
  {
   "cell_type": "markdown",
   "metadata": {
    "id": "5j1w28g83iSR"
   },
   "source": [
    "### Treinamento"
   ]
  },
  {
   "cell_type": "code",
   "execution_count": 47,
   "metadata": {
    "colab": {
     "base_uri": "https://localhost:8080/"
    },
    "id": "xWKAuKyp3jXv",
    "outputId": "bde286cd-dff1-4cbb-ce2e-707e63dc69ba"
   },
   "outputs": [
    {
     "name": "stdout",
     "output_type": "stream",
     "text": [
      "Epoch 1/250\n",
      "50/50 [==============================] - 6s 117ms/step - loss: 0.1424\n",
      "Epoch 2/250\n",
      "50/50 [==============================] - 1s 19ms/step - loss: 0.1061\n",
      "Epoch 3/250\n",
      "50/50 [==============================] - 1s 20ms/step - loss: 0.0825\n",
      "Epoch 4/250\n",
      "50/50 [==============================] - 1s 19ms/step - loss: 0.0886\n",
      "Epoch 5/250\n",
      "50/50 [==============================] - 1s 19ms/step - loss: 0.0824\n",
      "Epoch 6/250\n",
      "50/50 [==============================] - 1s 18ms/step - loss: 0.0731\n",
      "Epoch 7/250\n",
      "50/50 [==============================] - 1s 20ms/step - loss: 0.0692\n",
      "Epoch 8/250\n",
      "50/50 [==============================] - 1s 18ms/step - loss: 0.0700\n",
      "Epoch 9/250\n",
      "50/50 [==============================] - 1s 19ms/step - loss: 0.0682\n",
      "Epoch 10/250\n",
      "50/50 [==============================] - 1s 19ms/step - loss: 0.0664\n",
      "Epoch 11/250\n",
      "50/50 [==============================] - 1s 18ms/step - loss: 0.0646\n",
      "Epoch 12/250\n",
      "50/50 [==============================] - 1s 16ms/step - loss: 0.0639\n",
      "Epoch 13/250\n",
      "50/50 [==============================] - 1s 16ms/step - loss: 0.0629\n",
      "Epoch 14/250\n",
      "50/50 [==============================] - 1s 19ms/step - loss: 0.0621\n",
      "Epoch 15/250\n",
      "50/50 [==============================] - 1s 18ms/step - loss: 0.0602\n",
      "Epoch 16/250\n",
      "50/50 [==============================] - 1s 18ms/step - loss: 0.0593\n",
      "Epoch 17/250\n",
      "50/50 [==============================] - 1s 19ms/step - loss: 0.0611\n",
      "Epoch 18/250\n",
      "50/50 [==============================] - 1s 19ms/step - loss: 0.0584\n",
      "Epoch 19/250\n",
      "50/50 [==============================] - 1s 17ms/step - loss: 0.0581\n",
      "Epoch 20/250\n",
      "50/50 [==============================] - 1s 18ms/step - loss: 0.0549\n",
      "Epoch 21/250\n",
      "50/50 [==============================] - 1s 21ms/step - loss: 0.0553\n",
      "Epoch 22/250\n",
      "50/50 [==============================] - 1s 18ms/step - loss: 0.0505\n",
      "Epoch 23/250\n",
      "50/50 [==============================] - 1s 18ms/step - loss: 0.0451\n",
      "Epoch 24/250\n",
      "50/50 [==============================] - 1s 20ms/step - loss: 0.0461\n",
      "Epoch 25/250\n",
      "50/50 [==============================] - 1s 19ms/step - loss: 0.0399\n",
      "Epoch 26/250\n",
      "50/50 [==============================] - 1s 19ms/step - loss: 0.0401\n",
      "Epoch 27/250\n",
      "50/50 [==============================] - 1s 19ms/step - loss: 0.0378\n",
      "Epoch 28/250\n",
      "50/50 [==============================] - 1s 20ms/step - loss: 0.0356\n",
      "Epoch 29/250\n",
      "50/50 [==============================] - 1s 20ms/step - loss: 0.0344\n",
      "Epoch 30/250\n",
      "50/50 [==============================] - 1s 18ms/step - loss: 0.0285\n",
      "Epoch 31/250\n",
      "50/50 [==============================] - 1s 18ms/step - loss: 0.0267\n",
      "Epoch 32/250\n",
      "50/50 [==============================] - 1s 18ms/step - loss: 0.0260\n",
      "Epoch 33/250\n",
      "50/50 [==============================] - 1s 19ms/step - loss: 0.0242\n",
      "Epoch 34/250\n",
      "50/50 [==============================] - 1s 18ms/step - loss: 0.0227\n",
      "Epoch 35/250\n",
      "50/50 [==============================] - 1s 18ms/step - loss: 0.0274\n",
      "Epoch 36/250\n",
      "50/50 [==============================] - 1s 18ms/step - loss: 0.0246\n",
      "Epoch 37/250\n",
      "50/50 [==============================] - 1s 19ms/step - loss: 0.0261\n",
      "Epoch 38/250\n",
      "50/50 [==============================] - 1s 20ms/step - loss: 0.0260\n",
      "Epoch 39/250\n",
      "50/50 [==============================] - 1s 17ms/step - loss: 0.0235\n",
      "Epoch 40/250\n",
      "50/50 [==============================] - 1s 20ms/step - loss: 0.0224\n",
      "Epoch 41/250\n",
      "50/50 [==============================] - 1s 21ms/step - loss: 0.0268\n",
      "Epoch 42/250\n",
      "50/50 [==============================] - 1s 18ms/step - loss: 0.0212\n",
      "Epoch 43/250\n",
      "50/50 [==============================] - 1s 19ms/step - loss: 0.0249\n",
      "Epoch 44/250\n",
      "50/50 [==============================] - 1s 20ms/step - loss: 0.0221\n",
      "Epoch 45/250\n",
      "50/50 [==============================] - 1s 17ms/step - loss: 0.0215\n",
      "Epoch 46/250\n",
      "50/50 [==============================] - 1s 18ms/step - loss: 0.0235\n",
      "Epoch 47/250\n",
      "50/50 [==============================] - 1s 18ms/step - loss: 0.0204\n",
      "Epoch 48/250\n",
      "50/50 [==============================] - 1s 19ms/step - loss: 0.0260\n",
      "Epoch 49/250\n",
      "50/50 [==============================] - 1s 20ms/step - loss: 0.0227\n",
      "Epoch 50/250\n",
      "50/50 [==============================] - 1s 18ms/step - loss: 0.0251\n",
      "Epoch 51/250\n",
      "50/50 [==============================] - 1s 22ms/step - loss: 0.0262\n",
      "Epoch 52/250\n",
      "50/50 [==============================] - 1s 19ms/step - loss: 0.0213\n",
      "Epoch 53/250\n",
      "50/50 [==============================] - 1s 19ms/step - loss: 0.0213\n",
      "Epoch 54/250\n",
      "50/50 [==============================] - 1s 18ms/step - loss: 0.0220\n",
      "Epoch 55/250\n",
      "50/50 [==============================] - 1s 21ms/step - loss: 0.0204\n",
      "Epoch 56/250\n",
      "50/50 [==============================] - 1s 17ms/step - loss: 0.0226\n",
      "Epoch 57/250\n",
      "50/50 [==============================] - 1s 19ms/step - loss: 0.0198\n",
      "Epoch 58/250\n",
      "50/50 [==============================] - 1s 18ms/step - loss: 0.0212\n",
      "Epoch 59/250\n",
      "50/50 [==============================] - 1s 19ms/step - loss: 0.0225\n",
      "Epoch 60/250\n",
      "50/50 [==============================] - 1s 16ms/step - loss: 0.0202\n",
      "Epoch 61/250\n",
      "50/50 [==============================] - 1s 19ms/step - loss: 0.0201\n",
      "Epoch 62/250\n",
      "50/50 [==============================] - 1s 20ms/step - loss: 0.0187\n",
      "Epoch 63/250\n",
      "50/50 [==============================] - 1s 21ms/step - loss: 0.0208\n",
      "Epoch 64/250\n",
      "50/50 [==============================] - 1s 20ms/step - loss: 0.0224\n",
      "Epoch 65/250\n",
      "50/50 [==============================] - 1s 21ms/step - loss: 0.0185\n",
      "Epoch 66/250\n",
      "50/50 [==============================] - 1s 19ms/step - loss: 0.0183\n",
      "Epoch 67/250\n",
      "50/50 [==============================] - 1s 19ms/step - loss: 0.0229\n",
      "Epoch 68/250\n",
      "50/50 [==============================] - 1s 17ms/step - loss: 0.0211\n",
      "Epoch 69/250\n",
      "50/50 [==============================] - 1s 20ms/step - loss: 0.0223\n",
      "Epoch 70/250\n",
      "50/50 [==============================] - 1s 21ms/step - loss: 0.0173\n",
      "Epoch 71/250\n",
      "50/50 [==============================] - 1s 20ms/step - loss: 0.0201\n",
      "Epoch 72/250\n",
      "50/50 [==============================] - 1s 19ms/step - loss: 0.0210\n",
      "Epoch 73/250\n",
      "50/50 [==============================] - 1s 18ms/step - loss: 0.0181\n",
      "Epoch 74/250\n",
      "50/50 [==============================] - 1s 18ms/step - loss: 0.0189\n",
      "Epoch 75/250\n",
      "50/50 [==============================] - 1s 20ms/step - loss: 0.0208\n",
      "Epoch 76/250\n",
      "50/50 [==============================] - 1s 18ms/step - loss: 0.0166\n",
      "Epoch 77/250\n",
      "50/50 [==============================] - 1s 19ms/step - loss: 0.0184\n",
      "Epoch 78/250\n",
      "50/50 [==============================] - 1s 19ms/step - loss: 0.0193\n",
      "Epoch 79/250\n",
      "50/50 [==============================] - 1s 22ms/step - loss: 0.0171\n",
      "Epoch 80/250\n",
      "50/50 [==============================] - 1s 22ms/step - loss: 0.0174\n",
      "Epoch 81/250\n",
      "50/50 [==============================] - 1s 19ms/step - loss: 0.0197\n",
      "Epoch 82/250\n",
      "50/50 [==============================] - 1s 19ms/step - loss: 0.0180\n",
      "Epoch 83/250\n",
      "50/50 [==============================] - 1s 20ms/step - loss: 0.0189\n",
      "Epoch 84/250\n",
      "50/50 [==============================] - 1s 20ms/step - loss: 0.0159\n",
      "Epoch 85/250\n",
      "50/50 [==============================] - 1s 20ms/step - loss: 0.0140\n",
      "Epoch 86/250\n",
      "50/50 [==============================] - 1s 18ms/step - loss: 0.0153\n",
      "Epoch 87/250\n",
      "50/50 [==============================] - 1s 19ms/step - loss: 0.0166\n",
      "Epoch 88/250\n",
      "50/50 [==============================] - 1s 20ms/step - loss: 0.0205\n",
      "Epoch 89/250\n",
      "50/50 [==============================] - 1s 20ms/step - loss: 0.0150\n",
      "Epoch 90/250\n",
      "50/50 [==============================] - 1s 19ms/step - loss: 0.0147\n",
      "Epoch 91/250\n",
      "50/50 [==============================] - 1s 20ms/step - loss: 0.0186\n",
      "Epoch 92/250\n",
      "50/50 [==============================] - 1s 20ms/step - loss: 0.0166\n",
      "Epoch 93/250\n",
      "50/50 [==============================] - 1s 20ms/step - loss: 0.0157\n",
      "Epoch 94/250\n",
      "50/50 [==============================] - 1s 18ms/step - loss: 0.0128\n",
      "Epoch 95/250\n",
      "50/50 [==============================] - 1s 21ms/step - loss: 0.0169\n",
      "Epoch 96/250\n",
      "50/50 [==============================] - 1s 20ms/step - loss: 0.0161\n",
      "Epoch 97/250\n",
      "50/50 [==============================] - 1s 20ms/step - loss: 0.0160\n",
      "Epoch 98/250\n",
      "50/50 [==============================] - 1s 21ms/step - loss: 0.0157\n",
      "Epoch 99/250\n",
      "50/50 [==============================] - 1s 18ms/step - loss: 0.0141\n",
      "Epoch 100/250\n",
      "50/50 [==============================] - 1s 19ms/step - loss: 0.0132\n",
      "Epoch 101/250\n",
      "50/50 [==============================] - 1s 18ms/step - loss: 0.0150\n",
      "Epoch 102/250\n",
      "50/50 [==============================] - 1s 19ms/step - loss: 0.0198\n",
      "Epoch 103/250\n",
      "50/50 [==============================] - 1s 22ms/step - loss: 0.0157\n",
      "Epoch 104/250\n",
      "50/50 [==============================] - 1s 19ms/step - loss: 0.0158\n",
      "Epoch 105/250\n",
      "50/50 [==============================] - 1s 20ms/step - loss: 0.0151\n",
      "Epoch 106/250\n",
      "50/50 [==============================] - 1s 19ms/step - loss: 0.0182\n",
      "Epoch 107/250\n",
      "50/50 [==============================] - 1s 20ms/step - loss: 0.0145\n",
      "Epoch 108/250\n",
      "50/50 [==============================] - 1s 19ms/step - loss: 0.0164\n",
      "Epoch 109/250\n",
      "50/50 [==============================] - 1s 28ms/step - loss: 0.0185\n",
      "Epoch 110/250\n",
      "50/50 [==============================] - 1s 18ms/step - loss: 0.0162\n",
      "Epoch 111/250\n",
      "50/50 [==============================] - 1s 18ms/step - loss: 0.0148\n",
      "Epoch 112/250\n",
      "50/50 [==============================] - 1s 18ms/step - loss: 0.0159\n",
      "Epoch 113/250\n",
      "50/50 [==============================] - 1s 20ms/step - loss: 0.0185\n",
      "Epoch 114/250\n",
      "50/50 [==============================] - 1s 18ms/step - loss: 0.0155\n",
      "Epoch 115/250\n",
      "50/50 [==============================] - 1s 18ms/step - loss: 0.0165\n",
      "Epoch 116/250\n",
      "50/50 [==============================] - 1s 20ms/step - loss: 0.0172\n",
      "Epoch 117/250\n",
      "50/50 [==============================] - 1s 19ms/step - loss: 0.0157\n",
      "Epoch 118/250\n",
      "50/50 [==============================] - 1s 19ms/step - loss: 0.0141\n",
      "Epoch 119/250\n",
      "50/50 [==============================] - 1s 19ms/step - loss: 0.0152\n",
      "Epoch 120/250\n",
      "50/50 [==============================] - 1s 19ms/step - loss: 0.0144\n",
      "Epoch 121/250\n",
      "50/50 [==============================] - 1s 18ms/step - loss: 0.0147\n",
      "Epoch 122/250\n",
      "50/50 [==============================] - 1s 18ms/step - loss: 0.0141\n",
      "Epoch 123/250\n",
      "50/50 [==============================] - 1s 18ms/step - loss: 0.0154\n",
      "Epoch 124/250\n",
      "50/50 [==============================] - 1s 23ms/step - loss: 0.0133\n",
      "Epoch 125/250\n",
      "50/50 [==============================] - 1s 18ms/step - loss: 0.0149\n",
      "Epoch 126/250\n",
      "50/50 [==============================] - 1s 20ms/step - loss: 0.0160\n",
      "Epoch 127/250\n",
      "50/50 [==============================] - 1s 19ms/step - loss: 0.0154\n",
      "Epoch 128/250\n",
      "50/50 [==============================] - 1s 17ms/step - loss: 0.0134\n",
      "Epoch 129/250\n",
      "50/50 [==============================] - 1s 19ms/step - loss: 0.0137\n",
      "Epoch 130/250\n",
      "50/50 [==============================] - 1s 19ms/step - loss: 0.0132\n",
      "Epoch 131/250\n",
      "50/50 [==============================] - 1s 18ms/step - loss: 0.0139\n",
      "Epoch 132/250\n",
      "50/50 [==============================] - 1s 19ms/step - loss: 0.0134\n",
      "Epoch 133/250\n",
      "50/50 [==============================] - 1s 20ms/step - loss: 0.0131\n",
      "Epoch 134/250\n",
      "50/50 [==============================] - 1s 18ms/step - loss: 0.0136\n",
      "Epoch 135/250\n",
      "50/50 [==============================] - 1s 19ms/step - loss: 0.0140\n",
      "Epoch 136/250\n",
      "50/50 [==============================] - 1s 19ms/step - loss: 0.0128\n",
      "Epoch 137/250\n",
      "50/50 [==============================] - 1s 18ms/step - loss: 0.0122\n",
      "Epoch 138/250\n",
      "50/50 [==============================] - 1s 19ms/step - loss: 0.0133\n",
      "Epoch 139/250\n",
      "50/50 [==============================] - 1s 20ms/step - loss: 0.0143\n",
      "Epoch 140/250\n",
      "50/50 [==============================] - 1s 20ms/step - loss: 0.0142\n",
      "Epoch 141/250\n",
      "50/50 [==============================] - 1s 19ms/step - loss: 0.0153\n",
      "Epoch 142/250\n",
      "50/50 [==============================] - 1s 19ms/step - loss: 0.0159\n",
      "Epoch 143/250\n",
      "50/50 [==============================] - 1s 20ms/step - loss: 0.0152\n",
      "Epoch 144/250\n",
      "50/50 [==============================] - 1s 18ms/step - loss: 0.0124\n",
      "Epoch 145/250\n",
      "50/50 [==============================] - 1s 18ms/step - loss: 0.0105\n",
      "Epoch 146/250\n",
      "50/50 [==============================] - 1s 18ms/step - loss: 0.0146\n",
      "Epoch 147/250\n",
      "50/50 [==============================] - 1s 18ms/step - loss: 0.0171\n",
      "Epoch 148/250\n",
      "50/50 [==============================] - 1s 19ms/step - loss: 0.0151\n",
      "Epoch 149/250\n",
      "50/50 [==============================] - 1s 19ms/step - loss: 0.0109\n",
      "Epoch 150/250\n",
      "50/50 [==============================] - 1s 20ms/step - loss: 0.0141\n",
      "Epoch 151/250\n",
      "50/50 [==============================] - 1s 18ms/step - loss: 0.0138\n",
      "Epoch 152/250\n",
      "50/50 [==============================] - 1s 21ms/step - loss: 0.0136\n",
      "Epoch 153/250\n",
      "50/50 [==============================] - 1s 18ms/step - loss: 0.0142\n",
      "Epoch 154/250\n",
      "50/50 [==============================] - 1s 19ms/step - loss: 0.0133\n",
      "Epoch 155/250\n",
      "50/50 [==============================] - 1s 18ms/step - loss: 0.0169\n",
      "Epoch 156/250\n",
      "50/50 [==============================] - 1s 18ms/step - loss: 0.0128\n",
      "Epoch 157/250\n",
      "50/50 [==============================] - 1s 21ms/step - loss: 0.0168\n",
      "Epoch 158/250\n",
      "50/50 [==============================] - 1s 22ms/step - loss: 0.0143\n",
      "Epoch 159/250\n",
      "50/50 [==============================] - 1s 20ms/step - loss: 0.0155\n",
      "Epoch 160/250\n",
      "50/50 [==============================] - 1s 18ms/step - loss: 0.0145\n",
      "Epoch 161/250\n",
      "50/50 [==============================] - 1s 18ms/step - loss: 0.0102\n",
      "Epoch 162/250\n",
      "50/50 [==============================] - 1s 19ms/step - loss: 0.0162\n",
      "Epoch 163/250\n",
      "50/50 [==============================] - 1s 19ms/step - loss: 0.0136\n",
      "Epoch 164/250\n",
      "50/50 [==============================] - 1s 19ms/step - loss: 0.0127\n",
      "Epoch 165/250\n",
      "50/50 [==============================] - 1s 19ms/step - loss: 0.0113\n",
      "Epoch 166/250\n",
      "50/50 [==============================] - 1s 20ms/step - loss: 0.0125\n",
      "Epoch 167/250\n",
      "50/50 [==============================] - 1s 20ms/step - loss: 0.0125\n",
      "Epoch 168/250\n",
      "50/50 [==============================] - 1s 21ms/step - loss: 0.0121\n",
      "Epoch 169/250\n",
      "50/50 [==============================] - 1s 18ms/step - loss: 0.0123\n",
      "Epoch 170/250\n",
      "50/50 [==============================] - 1s 19ms/step - loss: 0.0122\n",
      "Epoch 171/250\n",
      "50/50 [==============================] - 1s 20ms/step - loss: 0.0130\n",
      "Epoch 172/250\n",
      "50/50 [==============================] - 1s 18ms/step - loss: 0.0137\n",
      "Epoch 173/250\n",
      "50/50 [==============================] - 1s 20ms/step - loss: 0.0139\n",
      "Epoch 174/250\n",
      "50/50 [==============================] - 1s 19ms/step - loss: 0.0134\n",
      "Epoch 175/250\n",
      "50/50 [==============================] - 1s 18ms/step - loss: 0.0104\n",
      "Epoch 176/250\n",
      "50/50 [==============================] - 1s 18ms/step - loss: 0.0121\n",
      "Epoch 177/250\n",
      "50/50 [==============================] - 1s 20ms/step - loss: 0.0114\n",
      "Epoch 178/250\n",
      "50/50 [==============================] - 1s 21ms/step - loss: 0.0126\n",
      "Epoch 179/250\n",
      "50/50 [==============================] - 1s 19ms/step - loss: 0.0126\n",
      "Epoch 180/250\n",
      "50/50 [==============================] - 1s 18ms/step - loss: 0.0110\n",
      "Epoch 181/250\n",
      "50/50 [==============================] - 1s 20ms/step - loss: 0.0117\n",
      "Epoch 182/250\n",
      "50/50 [==============================] - 1s 17ms/step - loss: 0.0127\n",
      "Epoch 183/250\n",
      "50/50 [==============================] - 1s 18ms/step - loss: 0.0108\n",
      "Epoch 184/250\n",
      "50/50 [==============================] - 1s 18ms/step - loss: 0.0134\n",
      "Epoch 185/250\n",
      "50/50 [==============================] - 1s 20ms/step - loss: 0.0105\n",
      "Epoch 186/250\n",
      "50/50 [==============================] - 1s 20ms/step - loss: 0.0143\n",
      "Epoch 187/250\n",
      "50/50 [==============================] - 1s 19ms/step - loss: 0.0128\n",
      "Epoch 188/250\n",
      "50/50 [==============================] - 1s 18ms/step - loss: 0.0118\n",
      "Epoch 189/250\n",
      "50/50 [==============================] - 1s 20ms/step - loss: 0.0120\n",
      "Epoch 190/250\n",
      "50/50 [==============================] - 1s 19ms/step - loss: 0.0118\n",
      "Epoch 191/250\n",
      "50/50 [==============================] - 1s 21ms/step - loss: 0.0102\n",
      "Epoch 192/250\n",
      "50/50 [==============================] - 1s 18ms/step - loss: 0.0132\n",
      "Epoch 193/250\n",
      "50/50 [==============================] - 1s 19ms/step - loss: 0.0142\n",
      "Epoch 194/250\n",
      "50/50 [==============================] - 1s 20ms/step - loss: 0.0119\n",
      "Epoch 195/250\n",
      "50/50 [==============================] - 1s 20ms/step - loss: 0.0107\n",
      "Epoch 196/250\n",
      "50/50 [==============================] - 1s 20ms/step - loss: 0.0142\n",
      "Epoch 197/250\n",
      "50/50 [==============================] - 1s 21ms/step - loss: 0.0094\n",
      "Epoch 198/250\n",
      "50/50 [==============================] - 1s 20ms/step - loss: 0.0103\n",
      "Epoch 199/250\n",
      "50/50 [==============================] - 1s 19ms/step - loss: 0.0152\n",
      "Epoch 200/250\n",
      "50/50 [==============================] - 1s 19ms/step - loss: 0.0130\n",
      "Epoch 201/250\n",
      "50/50 [==============================] - 1s 20ms/step - loss: 0.0153\n",
      "Epoch 202/250\n",
      "50/50 [==============================] - 1s 19ms/step - loss: 0.0120\n",
      "Epoch 203/250\n",
      "50/50 [==============================] - 1s 19ms/step - loss: 0.0129\n",
      "Epoch 204/250\n",
      "50/50 [==============================] - 1s 17ms/step - loss: 0.0131\n",
      "Epoch 205/250\n",
      "50/50 [==============================] - 1s 19ms/step - loss: 0.0123\n",
      "Epoch 206/250\n",
      "50/50 [==============================] - 1s 22ms/step - loss: 0.0114\n",
      "Epoch 207/250\n",
      "50/50 [==============================] - 1s 20ms/step - loss: 0.0127\n",
      "Epoch 208/250\n",
      "50/50 [==============================] - 1s 18ms/step - loss: 0.0128\n",
      "Epoch 209/250\n",
      "50/50 [==============================] - 1s 17ms/step - loss: 0.0113\n",
      "Epoch 210/250\n",
      "50/50 [==============================] - 1s 18ms/step - loss: 0.0107\n",
      "Epoch 211/250\n",
      "50/50 [==============================] - 1s 18ms/step - loss: 0.0119\n",
      "Epoch 212/250\n",
      "50/50 [==============================] - 1s 18ms/step - loss: 0.0100\n",
      "Epoch 213/250\n",
      "50/50 [==============================] - 1s 19ms/step - loss: 0.0124\n",
      "Epoch 214/250\n",
      "50/50 [==============================] - 1s 20ms/step - loss: 0.0125\n",
      "Epoch 215/250\n",
      "50/50 [==============================] - 1s 18ms/step - loss: 0.0102\n",
      "Epoch 216/250\n",
      "50/50 [==============================] - 1s 19ms/step - loss: 0.0088\n",
      "Epoch 217/250\n",
      "50/50 [==============================] - 1s 19ms/step - loss: 0.0142\n",
      "Epoch 218/250\n",
      "50/50 [==============================] - 1s 18ms/step - loss: 0.0107\n",
      "Epoch 219/250\n",
      "50/50 [==============================] - 1s 18ms/step - loss: 0.0128\n",
      "Epoch 220/250\n",
      "50/50 [==============================] - 1s 18ms/step - loss: 0.0112\n",
      "Epoch 221/250\n",
      "50/50 [==============================] - 1s 20ms/step - loss: 0.0140\n",
      "Epoch 222/250\n",
      "50/50 [==============================] - 1s 19ms/step - loss: 0.0115\n",
      "Epoch 223/250\n",
      "50/50 [==============================] - 1s 19ms/step - loss: 0.0115\n",
      "Epoch 224/250\n",
      "50/50 [==============================] - 1s 18ms/step - loss: 0.0104\n",
      "Epoch 225/250\n",
      "50/50 [==============================] - 1s 20ms/step - loss: 0.0107\n",
      "Epoch 226/250\n",
      "50/50 [==============================] - 1s 17ms/step - loss: 0.0118\n",
      "Epoch 227/250\n",
      "50/50 [==============================] - 1s 18ms/step - loss: 0.0115\n",
      "Epoch 228/250\n",
      "50/50 [==============================] - 1s 18ms/step - loss: 0.0107\n",
      "Epoch 229/250\n",
      "50/50 [==============================] - 1s 19ms/step - loss: 0.0141\n",
      "Epoch 230/250\n",
      "50/50 [==============================] - 1s 20ms/step - loss: 0.0108\n",
      "Epoch 231/250\n",
      "50/50 [==============================] - 1s 19ms/step - loss: 0.0118\n",
      "Epoch 232/250\n",
      "50/50 [==============================] - 1s 21ms/step - loss: 0.0121\n",
      "Epoch 233/250\n",
      "50/50 [==============================] - 1s 20ms/step - loss: 0.0126\n",
      "Epoch 234/250\n",
      "50/50 [==============================] - 1s 16ms/step - loss: 0.0113\n",
      "Epoch 235/250\n",
      "50/50 [==============================] - 1s 18ms/step - loss: 0.0116\n",
      "Epoch 236/250\n",
      "50/50 [==============================] - 1s 18ms/step - loss: 0.0103\n",
      "Epoch 237/250\n",
      "50/50 [==============================] - 1s 19ms/step - loss: 0.0111\n",
      "Epoch 238/250\n",
      "50/50 [==============================] - 1s 20ms/step - loss: 0.0122\n",
      "Epoch 239/250\n",
      "50/50 [==============================] - 1s 20ms/step - loss: 0.0125\n",
      "Epoch 240/250\n",
      "50/50 [==============================] - 1s 18ms/step - loss: 0.0109\n",
      "Epoch 241/250\n",
      "50/50 [==============================] - 1s 20ms/step - loss: 0.0130\n",
      "Epoch 242/250\n",
      "50/50 [==============================] - 1s 18ms/step - loss: 0.0104\n",
      "Epoch 243/250\n",
      "50/50 [==============================] - 1s 20ms/step - loss: 0.0099\n",
      "Epoch 244/250\n",
      "50/50 [==============================] - 1s 18ms/step - loss: 0.0111\n",
      "Epoch 245/250\n",
      "50/50 [==============================] - 1s 18ms/step - loss: 0.0104\n",
      "Epoch 246/250\n",
      "50/50 [==============================] - 1s 20ms/step - loss: 0.0108\n",
      "Epoch 247/250\n",
      "50/50 [==============================] - 1s 21ms/step - loss: 0.0113\n",
      "Epoch 248/250\n",
      "50/50 [==============================] - 1s 18ms/step - loss: 0.0118\n",
      "Epoch 249/250\n",
      "50/50 [==============================] - 1s 19ms/step - loss: 0.0131\n",
      "Epoch 250/250\n",
      "50/50 [==============================] - 1s 21ms/step - loss: 0.0097\n"
     ]
    },
    {
     "data": {
      "text/plain": [
       "<keras.callbacks.History at 0x7fafa1b91748>"
      ]
     },
     "execution_count": 47,
     "metadata": {},
     "output_type": "execute_result"
    }
   ],
   "source": [
    "regressor.fit(X_train, y_train, epochs = 250, batch_size = 32)"
   ]
  },
  {
   "cell_type": "markdown",
   "metadata": {
    "id": "gwpyImwA3yon"
   },
   "source": [
    "## Parte 3 - Fazer as previsões e analisar os resultados"
   ]
  },
  {
   "cell_type": "markdown",
   "metadata": {
    "id": "wkXRvDjT4V-B"
   },
   "source": [
    "### Base de teste"
   ]
  },
  {
   "cell_type": "code",
   "execution_count": 48,
   "metadata": {
    "id": "Bn_n72dh30K-"
   },
   "outputs": [],
   "source": [
    "dataset_test = pd.read_csv('test.csv')\n",
    "test_pul = dataset_test.iloc[:, 1:2].values"
   ]
  },
  {
   "cell_type": "markdown",
   "metadata": {
    "id": "EOo84exH4bfs"
   },
   "source": [
    "### Construir a estrutura para teste"
   ]
  },
  {
   "cell_type": "code",
   "execution_count": 49,
   "metadata": {
    "id": "ob_-mGA_B5px"
   },
   "outputs": [],
   "source": [
    "dataset_total = pd.concat((dataset_train.iloc[:,1], dataset_test.iloc[:,1]), axis = 0)\n",
    "testLength = len(dataset_test)\n",
    "inputs = dataset_total[len(dataset_total) - testLength - window:].values\n",
    "inputs = inputs.reshape(inputs.shape[0],1)\n",
    "\n",
    "inputs = sc.transform(inputs)\n",
    "X_test = []\n",
    "for i in range(window, inputs.shape[0]): \n",
    "    X_test.append(inputs[i-window:i, 0])\n",
    "X_test = np.array(X_test)\n",
    "\n",
    "X_test = np.reshape(X_test, (X_test.shape[0], X_test.shape[1], 1))"
   ]
  },
  {
   "cell_type": "markdown",
   "metadata": {
    "id": "rtkB4NA74e1B"
   },
   "source": [
    "### Fazer as previsões"
   ]
  },
  {
   "cell_type": "code",
   "execution_count": 50,
   "metadata": {
    "id": "nKIq1h-E4g9Z"
   },
   "outputs": [],
   "source": [
    "predicted = regressor.predict(X_test)\n",
    "predicted = sc.inverse_transform(predicted)"
   ]
  },
  {
   "cell_type": "markdown",
   "metadata": {
    "id": "guvk7yXr4o0g"
   },
   "source": [
    "### Visualizar os resultados de treino e teste"
   ]
  },
  {
   "cell_type": "code",
   "execution_count": 51,
   "metadata": {
    "colab": {
     "base_uri": "https://localhost:8080/",
     "height": 295
    },
    "id": "tstXl2oS4rIo",
    "outputId": "507b81b6-ccb3-45d3-bf80-f3fa0cb22f2d"
   },
   "outputs": [
    {
     "data": {
      "image/png": "[encoded data removed]",
      "text/plain": [
       "<Figure size 432x288 with 1 Axes>"
      ]
     },
     "metadata": {
      "needs_background": "light"
     },
     "output_type": "display_data"
    }
   ],
   "source": [
    "allTargetData = np.vstack((training_set, test_pul))\n",
    "training_predicted = regressor.predict(X_train)\n",
    "training_predicted = sc.inverse_transform(training_predicted)\n",
    "allForecastedData = np.vstack((training_set[0:window], training_predicted, predicted))\n",
    "plt.plot(allTargetData, color = 'red', label = 'Real')\n",
    "plt.plot(allForecastedData, color = 'blue', label = 'Previsto')\n",
    "plt.title('Previsão de série temporal')\n",
    "plt.xlabel('Tempo')\n",
    "plt.ylabel('Passageiros')\n",
    "plt.legend()\n",
    "plt.savefig('predictions_trainingxtest_3Layers_160x80x96Neurons.svg')\n",
    "plt.show()"
   ]
  },
  {
   "cell_type": "markdown",
   "metadata": {
    "id": "ytEVhQht4we3"
   },
   "source": [
    "## Parte 4 - Métricas de avaliação"
   ]
  },
  {
   "cell_type": "code",
   "execution_count": 52,
   "metadata": {
    "colab": {
     "base_uri": "https://localhost:8080/"
    },
    "id": "rqOonVj64ydu",
    "outputId": "b74311c8-b4eb-428b-eed8-0037d6edfd62"
   },
   "outputs": [
    {
     "name": "stdout",
     "output_type": "stream",
     "text": [
      "RMSE:  258.6761694766121\n"
     ]
    }
   ],
   "source": [
    "import math\n",
    "from sklearn.metrics import mean_squared_error\n",
    "rmse = math.sqrt(mean_squared_error(test_pul, predicted))\n",
    "print('RMSE: ', rmse)"
   ]
  },
  {
   "cell_type": "code",
   "execution_count": 53,
   "metadata": {
    "colab": {
     "base_uri": "https://localhost:8080/"
    },
    "id": "ODeley1K42WW",
    "outputId": "1381e3ee-fd40-496f-9d3a-bae031970edf"
   },
   "outputs": [
    {
     "name": "stdout",
     "output_type": "stream",
     "text": [
      "MSE:  66913.36065509294\n"
     ]
    }
   ],
   "source": [
    "mse = mean_squared_error(test_pul, predicted)\n",
    "print('MSE: ',mse)"
   ]
  },
  {
   "cell_type": "code",
   "execution_count": 54,
   "metadata": {
    "colab": {
     "base_uri": "https://localhost:8080/"
    },
    "id": "L7_uU_8T44QA",
    "outputId": "9e5ebc5c-f589-4b85-ad12-efd44b404897"
   },
   "outputs": [
    {
     "name": "stdout",
     "output_type": "stream",
     "text": [
      "MAPE:  11.144473179840091 %\n"
     ]
    }
   ],
   "source": [
    "mape = np.mean(np.abs((test_pul - predicted) / test_pul)) * 100\n",
    "print('MAPE: ',mape, '%')"
   ]
  },
  {
   "cell_type": "code",
   "execution_count": null,
   "metadata": {
    "id": "mgmtdSOq7rG0"
   },
   "outputs": [],
   "source": []
  }
 ],
 "metadata": {
  "accelerator": "TPU",
  "colab": {
   "collapsed_sections": [],
   "name": "RedesRecorrentespul.ipynb",
   "provenance": [],
   "toc_visible": true
  },
  "kernelspec": {
   "display_name": "Python",
   "language": "python",
   "name": "conda-env-python-py"
  },
  "language_info": {
   "codemirror_mode": {
    "name": "ipython",
    "version": 3
   },
   "file_extension": ".py",
   "mimetype": "text/x-python",
   "name": "python",
   "nbconvert_exporter": "python",
   "pygments_lexer": "ipython3",
   "version": "3.6.11"
  }
 },
 "nbformat": 4,
 "nbformat_minor": 4
}
