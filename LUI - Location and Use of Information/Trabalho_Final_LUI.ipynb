{
  "nbformat": 4,
  "nbformat_minor": 0,
  "metadata": {
    "colab": {
      "name": "exemplo_trabalho.ipynb",
      "provenance": []
    },
    "kernelspec": {
      "name": "python3",
      "display_name": "Python 3.8.3 64-bit (conda)",
      "metadata": {
        "interpreter": {
          "hash": "252e1b1944e410a989db8972fccf8a55f8fa67ce2db64bcf7b664db39463547f"
        }
      }
    },
    "language_info": {
      "codemirror_mode": {
        "name": "ipython",
        "version": 3
      },
      "file_extension": ".py",
      "mimetype": "text/x-python",
      "name": "python",
      "nbconvert_exporter": "python",
      "pygments_lexer": "ipython3",
      "version": "3.8.3-final"
    }
  },
  "cells": [
    {
      "source": [
        "# Trabalho Final de LUI - Webscrapping IMDB\n",
        "**Curso:** BI Master 2019.2 <br>\n",
        "**Alunos:** Manoela Lacombe, Marcelo Bittencurt, Ivan Madeira de Oliveira <br>"
      ],
      "cell_type": "markdown",
      "metadata": {
        "id": "p_eDAzaPMXsB",
        "colab_type": "text"
      }
    },
    {
      "source": [
        "---"
      ],
      "cell_type": "markdown",
      "metadata": {}
    },
    {
      "cell_type": "markdown",
      "metadata": {
        "id": "j4df4Du3MXsC",
        "colab_type": "text"
      },
      "source": [
        "## 1. Introdução"
      ]
    },
    {
      "source": [
        "---"
      ],
      "cell_type": "markdown",
      "metadata": {}
    },
    {
      "cell_type": "markdown",
      "metadata": {
        "id": "lJRgvMTWMXsC",
        "colab_type": "text"
      },
      "source": [
        "### &nbsp;&nbsp;&nbsp;&nbsp;&nbsp;&nbsp; 1.1. Descrição do problema"
      ]
    },
    {
      "cell_type": "markdown",
      "metadata": {
        "id": "Onoq96WxMXsD",
        "colab_type": "raw"
      },
      "source": [
        "#\n",
        "<h4>Foi passado para vocês um web scrapping para extrair os dados de um site do IMBD, por favor obtendo os dados obtidos pelo scrappig, organize em tabelas os filmes extraidos.</h4>\n",
        "<ol>\n",
        "    <li>Organize os filmes por gênero;</li>\n",
        "    <li>Organize os filmes por ano;</li>\n",
        "    <li>O trabalho pode ser feito em grupos de 5 pessoas e sera explicado na próxima aula</li> \n",
        "</ol>\n",
        " \n",
        "<p><strong>Bônus: pegar os 100 filmes e series mostradas na pagina.</p></strong>"
      ]
    },
    {
      "cell_type": "code",
      "metadata": {
        "colab_type": "code",
        "id": "rlz4T4V6zU6z",
        "colab": {}
      },
      "source": [
        "import lxml\n",
        "import re\n",
        "import numpy as np\n",
        "import pandas as pd\n",
        "\n",
        "from bs4 import BeautifulSoup\n",
        "from requests import get"
      ],
      "execution_count": 1,
      "outputs": []
    },
    {
      "cell_type": "markdown",
      "metadata": {
        "id": "w_p0UpT8MXsD",
        "colab_type": "text"
      },
      "source": [
        "### &nbsp;&nbsp;&nbsp;&nbsp;&nbsp;&nbsp; 1.2. Código disponibilizado com o problema"
      ]
    },
    {
      "cell_type": "code",
      "metadata": {
        "colab_type": "code",
        "id": "Ij27zN-KzU64",
        "colab": {}
      },
      "source": [
        "url = \"https://www.imdb.com/search/title?count=100&title_type=feature,tv_series&ref_=nv_wl_img_2\""
      ],
      "execution_count": 2,
      "outputs": []
    },
    {
      "cell_type": "code",
      "metadata": {
        "colab_type": "code",
        "id": "3g00rxi1zU67",
        "colab": {}
      },
      "source": [
        "class IMDB(object):\n",
        "    \"\"\"docstring for IMDB\"\"\"\n",
        "    def __init__(self, url):\n",
        "        super(IMDB, self).__init__()\n",
        "        page = get(url)\n",
        "\n",
        "        self.soup = BeautifulSoup(page.content, 'lxml')\n",
        "\n",
        "    def articleTitle(self):\n",
        "        return self.soup.find(\"h1\", class_=\"header\").text.replace(\"\\n\",\"\")\n",
        "\n",
        "    def bodyContent(self):\n",
        "        content = self.soup.find(id=\"main\")\n",
        "        return content.find_all(\"div\", class_=\"lister-item mode-advanced\")\n",
        "\n",
        "    def movieData(self):\n",
        "        movieFrame = self.bodyContent()\n",
        "        movieTitle = []\n",
        "        movieDate = []\n",
        "        movieRunTime = []\n",
        "        movieGenre = []\n",
        "        movieRating = []\n",
        "        movieScore = []\n",
        "        movieDescription = []\n",
        "        movieDirector = []\n",
        "        movieStars = []\n",
        "        movieVotes = []\n",
        "        movieGross = []\n",
        "        for movie in movieFrame:\n",
        "            movieFirstLine = movie.find(\"h3\", class_=\"lister-item-header\")\n",
        "            movieTitle.append(movieFirstLine.find(\"a\").text)\n",
        "            movieDate.append(re.sub(r\"[()]\",\"\", movieFirstLine.find_all(\"span\")[-1].text))\n",
        "            try:\n",
        "                movieRunTime.append(movie.find(\"span\", class_=\"runtime\").text[:-4])\n",
        "            except:\n",
        "                movieRunTime.append(np.nan)\n",
        "            movieGenre.append(movie.find(\"span\", class_=\"genre\").text.rstrip().replace(\"\\n\",\"\").split(\",\"))\n",
        "            try:\n",
        "                movieRating.append(movie.find(\"strong\").text)\n",
        "            except:\n",
        "                movieRating.append(np.nan)\n",
        "            try:\n",
        "                movieScore.append(movie.find(\"span\", class_=\"metascore unfavorable\").text.rstrip())\n",
        "            except:\n",
        "                movieScore.append(np.nan)\n",
        "            movieDescription.append(movie.find_all(\"p\", class_=\"text-muted\")[-1].text.lstrip())\n",
        "            movieCast = movie.find(\"p\", class_=\"\")\n",
        "\n",
        "            try:\n",
        "                casts = movieCast.text.replace(\"\\n\",\"\").split('|')\n",
        "                casts = [x.strip() for x in casts]\n",
        "                casts = [casts[i].replace(j, \"\") for i,j in enumerate([\"Director:\", \"Stars:\"])]\n",
        "                movieDirector.append(casts[0])\n",
        "                movieStars.append([x.strip() for x in casts[1].split(\",\")])\n",
        "            except:\n",
        "                casts = movieCast.text.replace(\"\\n\",\"\").strip()\n",
        "                movieDirector.append(np.nan)\n",
        "                movieStars.append([x.strip() for x in casts.split(\",\")])\n",
        "\n",
        "            movieNumbers = movie.find_all(\"span\", attrs={\"name\": \"nv\"})\n",
        "\n",
        "            if len(movieNumbers) == 2:\n",
        "                movieVotes.append(movieNumbers[0].text)\n",
        "                movieGross.append(movieNumbers[1].text)\n",
        "            elif len(movieNumbers) == 1:\n",
        "                movieVotes.append(movieNumbers[0].text)\n",
        "                movieGross.append(np.nan)\n",
        "            else:\n",
        "                movieVotes.append(np.nan)\n",
        "                movieGross.append(np.nan)\n",
        "\n",
        "        movieData = [movieTitle, movieDate, movieRunTime, movieGenre, movieRating, movieScore, movieDescription,\n",
        "                     movieDirector, movieStars, movieVotes, movieGross]\n",
        "        return movieData"
      ],
      "execution_count": 3,
      "outputs": []
    },
    {
      "source": [
        "---"
      ],
      "cell_type": "markdown",
      "metadata": {}
    },
    {
      "cell_type": "markdown",
      "metadata": {
        "id": "MkCU4tD6MXsO",
        "colab_type": "text"
      },
      "source": [
        "## 2. Tratamento dos dados"
      ]
    },
    {
      "source": [
        "---"
      ],
      "cell_type": "markdown",
      "metadata": {}
    },
    {
      "cell_type": "markdown",
      "metadata": {
        "id": "SgFlAe-MMXsP",
        "colab_type": "text"
      },
      "source": [
        "### &nbsp;&nbsp;&nbsp;&nbsp;&nbsp;&nbsp; 2.1. Scrapping dos dados"
      ]
    },
    {
      "cell_type": "code",
      "metadata": {
        "colab_type": "code",
        "id": "S1OfXJmTzU6-",
        "scrolled": true,
        "colab": {}
      },
      "source": [
        "imdb_scrapper = IMDB(url)\n",
        "data = imdb_scrapper.movieData()"
      ],
      "execution_count": 4,
      "outputs": []
    },
    {
      "source": [
        "---"
      ],
      "cell_type": "markdown",
      "metadata": {}
    },
    {
      "cell_type": "markdown",
      "metadata": {
        "id": "JOoAx-FEMXsa",
        "colab_type": "text"
      },
      "source": [
        "### &nbsp;&nbsp;&nbsp;&nbsp;&nbsp;&nbsp; 2.2. Verifica se os dados foram copiados"
      ]
    },
    {
      "source": [
        "---"
      ],
      "cell_type": "markdown",
      "metadata": {}
    },
    {
      "cell_type": "code",
      "metadata": {
        "scrolled": true,
        "id": "T9SyJRQ5MXsc",
        "colab_type": "code",
        "colab": {},
        "outputId": "fac443a3-eb9f-4c61-80cf-b64a08b61572"
      },
      "source": [
        "for i, col in enumerate(data):\n",
        "    first_row_value = col[0]\n",
        "    print(f'Column {i+1} has {len(col)} values. First value: {col[0]}')"
      ],
      "execution_count": 5,
      "outputs": [
        {
          "output_type": "stream",
          "name": "stdout",
          "text": [
            "Column 1 has 100 values. First value: The Crown\nColumn 2 has 100 values. First value: 2016– \nColumn 3 has 100 values. First value: 58\nColumn 4 has 100 values. First value: ['Biography', ' Drama', ' History']\nColumn 5 has 100 values. First value: 8.7\nColumn 6 has 100 values. First value: nan\nColumn 7 has 100 values. First value: Follows the political rivalries and romance of Queen Elizabeth II's reign and the events that shaped the second half of the twentieth century.\nColumn 8 has 100 values. First value: nan\nColumn 9 has 100 values. First value: ['Stars:Claire Foy', 'Olivia Colman', 'Imelda Staunton', 'Matt Smith']\nColumn 10 has 100 values. First value: 130,250\nColumn 11 has 100 values. First value: nan\n"
          ]
        }
      ]
    },
    {
      "source": [
        "---"
      ],
      "cell_type": "markdown",
      "metadata": {}
    },
    {
      "cell_type": "markdown",
      "metadata": {
        "id": "v8wTIrHpMXsi",
        "colab_type": "text"
      },
      "source": [
        "### &nbsp;&nbsp;&nbsp;&nbsp;&nbsp;&nbsp; 2.3. Nomeia as colunas"
      ]
    },
    {
      "source": [
        "---"
      ],
      "cell_type": "markdown",
      "metadata": {}
    },
    {
      "cell_type": "code",
      "metadata": {
        "id": "BNTx4Ti0MXsi",
        "colab_type": "code",
        "colab": {}
      },
      "source": [
        "data2 = {}\n",
        "data2['Title'] = data[0]\n",
        "data2['Year'] = data[1]\n",
        "data2['Runtime'] = data[2] \n",
        "data2['Genre'] = data[3]\n",
        "data2['Rating'] = data[4]\n",
        "data2['Score'] = data[5]\n",
        "data2['Description'] = data[6]\n",
        "data2['Director'] = data[7]\n",
        "data2['Stars'] = data[8]\n",
        "data2['Votes'] = data[9]\n",
        "data2['Gross'] = data[10]"
      ],
      "execution_count": 6,
      "outputs": []
    },
    {
      "source": [
        "---"
      ],
      "cell_type": "markdown",
      "metadata": {}
    },
    {
      "cell_type": "markdown",
      "metadata": {
        "id": "32tikVCuMXsl",
        "colab_type": "text"
      },
      "source": [
        "### &nbsp;&nbsp;&nbsp;&nbsp;&nbsp;&nbsp; 2.4. Trata a coluna de ano, que tem formato diferente para filmes (aaaa) e séries (aaaa-aaaa)\n",
        "&nbsp;&nbsp;&nbsp;&nbsp;&nbsp;&nbsp;&nbsp;&nbsp;&nbsp;&nbsp;&nbsp;&nbsp;&nbsp;&nbsp;&nbsp;&nbsp;&nbsp;&nbsp; A diferença no formato também é utilizada para criar um novo campo/coluna, que informa se o título é um filme ou uma série"
      ]
    },
    {
      "source": [
        "---"
      ],
      "cell_type": "markdown",
      "metadata": {}
    },
    {
      "cell_type": "code",
      "metadata": {
        "id": "BB-QcjyzMXsm",
        "colab_type": "code",
        "colab": {}
      },
      "source": [
        "import re\n",
        "\n",
        "def parse_years(years_list):\n",
        "    title_types = []\n",
        "    year_begins = []\n",
        "    year_ends = []\n",
        "    for raw_years in years_list:\n",
        "        # Strip value of anythin but numbers and dash (-)\n",
        "        clean_years = re.sub(r'[^0-9–]+', '', raw_years)\n",
        "        # If it has a dash (-), it is a TV Series\n",
        "        if '–' in clean_years:\n",
        "            title_type = 'TV Series'\n",
        "            splitted_years = clean_years.split('–')\n",
        "            year_begin = int(splitted_years[0])\n",
        "            year_end = splitted_years[1]\n",
        "            if year_end == '':\n",
        "                year_end = 'ongoing'\n",
        "        # If it don't have a dash (-), it is a movie\n",
        "        else:\n",
        "            title_type = 'Feature Film'\n",
        "            year_begin = int(clean_years)\n",
        "            year_end = ''            \n",
        "        title_types.append(title_type)\n",
        "        year_begins.append(year_begin)     \n",
        "        year_ends.append(year_end)\n",
        "    return [title_types, year_begins, year_ends]\n",
        "\n",
        "# a, b, c = parse_years(data[1])\n",
        "# pd.DataFrame(parse_years(data[1])).T.head(8)\n",
        "\n",
        "types, y_begin, y_end = parse_years(data2['Year'])\n",
        "\n",
        "data2['Title Type'] = types\n",
        "data2['Year (Begin)'] = y_begin\n",
        "data2['Year (End)'] = y_end"
      ],
      "execution_count": 7,
      "outputs": []
    },
    {
      "source": [
        "---"
      ],
      "cell_type": "markdown",
      "metadata": {}
    },
    {
      "cell_type": "markdown",
      "metadata": {
        "id": "oWcy4NmhMXsp",
        "colab_type": "text"
      },
      "source": [
        "### &nbsp;&nbsp;&nbsp;&nbsp;&nbsp;&nbsp; 2.5. Transforma os dados em um pandas dataframe"
      ]
    },
    {
      "source": [
        "---"
      ],
      "cell_type": "markdown",
      "metadata": {}
    },
    {
      "cell_type": "code",
      "metadata": {
        "id": "Ze2k-OcaMXsq",
        "colab_type": "code",
        "colab": {},
        "outputId": "b03de2c5-dd21-4470-ee10-a1572e66a8c9"
      },
      "source": [
        "df = pd.DataFrame(data2)\n",
        "df.head(5)"
      ],
      "execution_count": 8,
      "outputs": [
        {
          "output_type": "execute_result",
          "data": {
            "text/plain": [
              "                  Title       Year Runtime                          Genre  \\\n",
              "0             The Crown     2016–       58  [Biography,  Drama,  History]   \n",
              "1        O Mandaloriano     2019–       40  [Action,  Adventure,  Sci-Fi]   \n",
              "2         Alguém Avisa?       2020     102             [Comedy,  Romance]   \n",
              "3  Era uma vez um sonho       2020     116                        [Drama]   \n",
              "4          Sobrenatural  2005–2020      44     [Drama,  Fantasy,  Horror]   \n",
              "\n",
              "  Rating Score                                        Description  \\\n",
              "0    8.7   NaN  Follows the political rivalries and romance of...   \n",
              "1    8.7   NaN  The travels of a lone bounty hunter in the out...   \n",
              "2    6.9   NaN  A holiday romantic comedy that captures the ra...   \n",
              "3    6.6    39  An urgent phone call pulls a Yale Law student ...   \n",
              "4    8.4   NaN  Two brothers follow their father's footsteps a...   \n",
              "\n",
              "      Director                                              Stars    Votes  \\\n",
              "0          NaN  [Stars:Claire Foy, Olivia Colman, Imelda Staun...  130,250   \n",
              "1          NaN  [Stars:Pedro Pascal, Carl Weathers, Gina Caran...  222,268   \n",
              "2  Clea DuVall  [Kristen Stewart, Mackenzie Davis, Mary Steenb...    8,366   \n",
              "3   Ron Howard  [Amy Adams, Glenn Close, Gabriel Basso, Haley ...    9,126   \n",
              "4          NaN  [Stars:Jared Padalecki, Jensen Ackles, Jim Bea...  386,427   \n",
              "\n",
              "  Gross    Title Type  Year (Begin) Year (End)  \n",
              "0   NaN     TV Series          2016    ongoing  \n",
              "1   NaN     TV Series          2019    ongoing  \n",
              "2   NaN  Feature Film          2020             \n",
              "3   NaN  Feature Film          2020             \n",
              "4   NaN     TV Series          2005       2020  "
            ],
            "text/html": "<div>\n<style scoped>\n    .dataframe tbody tr th:only-of-type {\n        vertical-align: middle;\n    }\n\n    .dataframe tbody tr th {\n        vertical-align: top;\n    }\n\n    .dataframe thead th {\n        text-align: right;\n    }\n</style>\n<table border=\"1\" class=\"dataframe\">\n  <thead>\n    <tr style=\"text-align: right;\">\n      <th></th>\n      <th>Title</th>\n      <th>Year</th>\n      <th>Runtime</th>\n      <th>Genre</th>\n      <th>Rating</th>\n      <th>Score</th>\n      <th>Description</th>\n      <th>Director</th>\n      <th>Stars</th>\n      <th>Votes</th>\n      <th>Gross</th>\n      <th>Title Type</th>\n      <th>Year (Begin)</th>\n      <th>Year (End)</th>\n    </tr>\n  </thead>\n  <tbody>\n    <tr>\n      <th>0</th>\n      <td>The Crown</td>\n      <td>2016–</td>\n      <td>58</td>\n      <td>[Biography,  Drama,  History]</td>\n      <td>8.7</td>\n      <td>NaN</td>\n      <td>Follows the political rivalries and romance of...</td>\n      <td>NaN</td>\n      <td>[Stars:Claire Foy, Olivia Colman, Imelda Staun...</td>\n      <td>130,250</td>\n      <td>NaN</td>\n      <td>TV Series</td>\n      <td>2016</td>\n      <td>ongoing</td>\n    </tr>\n    <tr>\n      <th>1</th>\n      <td>O Mandaloriano</td>\n      <td>2019–</td>\n      <td>40</td>\n      <td>[Action,  Adventure,  Sci-Fi]</td>\n      <td>8.7</td>\n      <td>NaN</td>\n      <td>The travels of a lone bounty hunter in the out...</td>\n      <td>NaN</td>\n      <td>[Stars:Pedro Pascal, Carl Weathers, Gina Caran...</td>\n      <td>222,268</td>\n      <td>NaN</td>\n      <td>TV Series</td>\n      <td>2019</td>\n      <td>ongoing</td>\n    </tr>\n    <tr>\n      <th>2</th>\n      <td>Alguém Avisa?</td>\n      <td>2020</td>\n      <td>102</td>\n      <td>[Comedy,  Romance]</td>\n      <td>6.9</td>\n      <td>NaN</td>\n      <td>A holiday romantic comedy that captures the ra...</td>\n      <td>Clea DuVall</td>\n      <td>[Kristen Stewart, Mackenzie Davis, Mary Steenb...</td>\n      <td>8,366</td>\n      <td>NaN</td>\n      <td>Feature Film</td>\n      <td>2020</td>\n      <td></td>\n    </tr>\n    <tr>\n      <th>3</th>\n      <td>Era uma vez um sonho</td>\n      <td>2020</td>\n      <td>116</td>\n      <td>[Drama]</td>\n      <td>6.6</td>\n      <td>39</td>\n      <td>An urgent phone call pulls a Yale Law student ...</td>\n      <td>Ron Howard</td>\n      <td>[Amy Adams, Glenn Close, Gabriel Basso, Haley ...</td>\n      <td>9,126</td>\n      <td>NaN</td>\n      <td>Feature Film</td>\n      <td>2020</td>\n      <td></td>\n    </tr>\n    <tr>\n      <th>4</th>\n      <td>Sobrenatural</td>\n      <td>2005–2020</td>\n      <td>44</td>\n      <td>[Drama,  Fantasy,  Horror]</td>\n      <td>8.4</td>\n      <td>NaN</td>\n      <td>Two brothers follow their father's footsteps a...</td>\n      <td>NaN</td>\n      <td>[Stars:Jared Padalecki, Jensen Ackles, Jim Bea...</td>\n      <td>386,427</td>\n      <td>NaN</td>\n      <td>TV Series</td>\n      <td>2005</td>\n      <td>2020</td>\n    </tr>\n  </tbody>\n</table>\n</div>"
          },
          "metadata": {},
          "execution_count": 8
        }
      ]
    },
    {
      "cell_type": "code",
      "execution_count": 9,
      "metadata": {},
      "outputs": [
        {
          "output_type": "execute_result",
          "data": {
            "text/plain": [
              "                     Title    Year Runtime                         Genre  \\\n",
              "95  Entre Facas e Segredos    2019     130      [Comedy,  Crime,  Drama]   \n",
              "96              Doctor Who  2005–       45  [Adventure,  Drama,  Family]   \n",
              "97               Ted Lasso  2020–       30      [Comedy,  Drama,  Sport]   \n",
              "98       O Poderoso Chefão    1972     175               [Crime,  Drama]   \n",
              "99     Fúria Incontrolável    2020      90           [Action,  Thriller]   \n",
              "\n",
              "   Rating Score                                        Description  \\\n",
              "95    7.9   NaN  A detective investigates the death of a patria...   \n",
              "96    8.6   NaN  The further adventures in time and space of th...   \n",
              "97    8.7   NaN  Follows US American Football coach Ted Lasso h...   \n",
              "98    9.2   NaN  The aging patriarch of an organized crime dyna...   \n",
              "99    6.0   NaN  After a confrontation with an unstable man at ...   \n",
              "\n",
              "                Director                                              Stars  \\\n",
              "95          Rian Johnson  [Daniel Craig, Chris Evans, Ana de Armas, Jami...   \n",
              "96                   NaN  [Stars:Jodie Whittaker, Peter Capaldi, Pearl M...   \n",
              "97                   NaN  [Stars:Jason Sudeikis, Hannah Waddingham, Jere...   \n",
              "98  Francis Ford Coppola  [Marlon Brando, Al Pacino, James Caan, Diane K...   \n",
              "99         Derrick Borte  [Russell Crowe, Caren Pistorius, Gabriel Batem...   \n",
              "\n",
              "        Votes     Gross    Title Type  Year (Begin) Year (End)  \n",
              "95    421,300  $165.36M  Feature Film          2019             \n",
              "96    197,325       NaN     TV Series          2005    ongoing  \n",
              "97     22,567       NaN     TV Series          2020    ongoing  \n",
              "98  1,596,220  $134.97M  Feature Film          1972             \n",
              "99     23,897       NaN  Feature Film          2020             "
            ],
            "text/html": "<div>\n<style scoped>\n    .dataframe tbody tr th:only-of-type {\n        vertical-align: middle;\n    }\n\n    .dataframe tbody tr th {\n        vertical-align: top;\n    }\n\n    .dataframe thead th {\n        text-align: right;\n    }\n</style>\n<table border=\"1\" class=\"dataframe\">\n  <thead>\n    <tr style=\"text-align: right;\">\n      <th></th>\n      <th>Title</th>\n      <th>Year</th>\n      <th>Runtime</th>\n      <th>Genre</th>\n      <th>Rating</th>\n      <th>Score</th>\n      <th>Description</th>\n      <th>Director</th>\n      <th>Stars</th>\n      <th>Votes</th>\n      <th>Gross</th>\n      <th>Title Type</th>\n      <th>Year (Begin)</th>\n      <th>Year (End)</th>\n    </tr>\n  </thead>\n  <tbody>\n    <tr>\n      <th>95</th>\n      <td>Entre Facas e Segredos</td>\n      <td>2019</td>\n      <td>130</td>\n      <td>[Comedy,  Crime,  Drama]</td>\n      <td>7.9</td>\n      <td>NaN</td>\n      <td>A detective investigates the death of a patria...</td>\n      <td>Rian Johnson</td>\n      <td>[Daniel Craig, Chris Evans, Ana de Armas, Jami...</td>\n      <td>421,300</td>\n      <td>$165.36M</td>\n      <td>Feature Film</td>\n      <td>2019</td>\n      <td></td>\n    </tr>\n    <tr>\n      <th>96</th>\n      <td>Doctor Who</td>\n      <td>2005–</td>\n      <td>45</td>\n      <td>[Adventure,  Drama,  Family]</td>\n      <td>8.6</td>\n      <td>NaN</td>\n      <td>The further adventures in time and space of th...</td>\n      <td>NaN</td>\n      <td>[Stars:Jodie Whittaker, Peter Capaldi, Pearl M...</td>\n      <td>197,325</td>\n      <td>NaN</td>\n      <td>TV Series</td>\n      <td>2005</td>\n      <td>ongoing</td>\n    </tr>\n    <tr>\n      <th>97</th>\n      <td>Ted Lasso</td>\n      <td>2020–</td>\n      <td>30</td>\n      <td>[Comedy,  Drama,  Sport]</td>\n      <td>8.7</td>\n      <td>NaN</td>\n      <td>Follows US American Football coach Ted Lasso h...</td>\n      <td>NaN</td>\n      <td>[Stars:Jason Sudeikis, Hannah Waddingham, Jere...</td>\n      <td>22,567</td>\n      <td>NaN</td>\n      <td>TV Series</td>\n      <td>2020</td>\n      <td>ongoing</td>\n    </tr>\n    <tr>\n      <th>98</th>\n      <td>O Poderoso Chefão</td>\n      <td>1972</td>\n      <td>175</td>\n      <td>[Crime,  Drama]</td>\n      <td>9.2</td>\n      <td>NaN</td>\n      <td>The aging patriarch of an organized crime dyna...</td>\n      <td>Francis Ford Coppola</td>\n      <td>[Marlon Brando, Al Pacino, James Caan, Diane K...</td>\n      <td>1,596,220</td>\n      <td>$134.97M</td>\n      <td>Feature Film</td>\n      <td>1972</td>\n      <td></td>\n    </tr>\n    <tr>\n      <th>99</th>\n      <td>Fúria Incontrolável</td>\n      <td>2020</td>\n      <td>90</td>\n      <td>[Action,  Thriller]</td>\n      <td>6.0</td>\n      <td>NaN</td>\n      <td>After a confrontation with an unstable man at ...</td>\n      <td>Derrick Borte</td>\n      <td>[Russell Crowe, Caren Pistorius, Gabriel Batem...</td>\n      <td>23,897</td>\n      <td>NaN</td>\n      <td>Feature Film</td>\n      <td>2020</td>\n      <td></td>\n    </tr>\n  </tbody>\n</table>\n</div>"
          },
          "metadata": {},
          "execution_count": 9
        }
      ],
      "source": [
        "df.tail(5)"
      ]
    },
    {
      "source": [
        "---"
      ],
      "cell_type": "markdown",
      "metadata": {}
    },
    {
      "source": [
        "### &nbsp; &nbsp; &nbsp; 2.6 Ordena os filmes por Ano do mais antigo para o mais recente. (Ascending Order)"
      ],
      "cell_type": "markdown",
      "metadata": {}
    },
    {
      "source": [
        "---"
      ],
      "cell_type": "markdown",
      "metadata": {}
    },
    {
      "cell_type": "code",
      "execution_count": 10,
      "metadata": {},
      "outputs": [
        {
          "output_type": "execute_result",
          "data": {
            "text/plain": [
              "                              Title       Year Runtime  \\\n",
              "98                O Poderoso Chefão       1972     175   \n",
              "54  Antes Só do que Mal Acompanhado       1987      93   \n",
              "31       Férias Frustradas de Natal       1989      97   \n",
              "34                Esqueceram de Mim       1990     103   \n",
              "55              Um Maluco no Pedaço  1990–1996      22   \n",
              "..                              ...        ...     ...   \n",
              "44                Saved by the Bell     2020–      NaN   \n",
              "5                     Mundo em Caos       2021     NaN   \n",
              "60                            Titãs   I 2018–       45   \n",
              "59                            Mosul     I 2019      86   \n",
              "9                               Run     I 2020      90   \n",
              "\n",
              "                            Genre Rating Score  \\\n",
              "98                [Crime,  Drama]    9.2   NaN   \n",
              "54               [Comedy,  Drama]    7.6   NaN   \n",
              "31                       [Comedy]    7.6   NaN   \n",
              "34              [Comedy,  Family]    7.6   NaN   \n",
              "55                       [Comedy]    7.9   NaN   \n",
              "..                            ...    ...   ...   \n",
              "44                       [Comedy]    4.9   NaN   \n",
              "5            [Adventure,  Sci-Fi]    NaN   NaN   \n",
              "60   [Action,  Adventure,  Crime]    7.7   NaN   \n",
              "59         [Action,  Drama,  War]    7.3   NaN   \n",
              "9   [Horror,  Mystery,  Thriller]    6.7   NaN   \n",
              "\n",
              "                                          Description  \\\n",
              "98  The aging patriarch of an organized crime dyna...   \n",
              "54  A man must struggle to travel home for Thanksg...   \n",
              "31  The Griswold family's plans for a big family C...   \n",
              "34  An eight-year-old troublemaker must protect hi...   \n",
              "55  A streetwise, poor young man from Philadelphia...   \n",
              "..                                                ...   \n",
              "44  A follow-up series to the 1990s sitcom. A grou...   \n",
              "5   A dystopian world where there are no women and...   \n",
              "60  A team of young superheroes combat evil and ot...   \n",
              "59  A police unit from Mosul fight to liberate the...   \n",
              "9   A homeschooled teenager begins to suspect her ...   \n",
              "\n",
              "                    Director  \\\n",
              "98      Francis Ford Coppola   \n",
              "54               John Hughes   \n",
              "31       Jeremiah S. Chechik   \n",
              "34            Chris Columbus   \n",
              "55                       NaN   \n",
              "..                       ...   \n",
              "44                       NaN   \n",
              "5                 Doug Liman   \n",
              "60                       NaN   \n",
              "59  Matthew Michael Carnahan   \n",
              "9            Aneesh Chaganty   \n",
              "\n",
              "                                                Stars      Votes     Gross  \\\n",
              "98  [Marlon Brando, Al Pacino, James Caan, Diane K...  1,596,220  $134.97M   \n",
              "54  [Steve Martin, John Candy, Laila Robins, Micha...    121,923   $49.53M   \n",
              "31  [Chevy Chase, Beverly D'Angelo, Juliette Lewis...    150,128   $71.32M   \n",
              "34  [Macaulay Culkin, Joe Pesci, Daniel Stern, Joh...    460,291  $285.76M   \n",
              "55  [Stars:Will Smith, James Avery, Alfonso Ribeir...    119,689       NaN   \n",
              "..                                                ...        ...       ...   \n",
              "44  [Stars:Haskiri Velazquez, Mitchell Hoog, Josie...        924       NaN   \n",
              "5   [Mads Mikkelsen, Tom Holland, Daisy Ridley, Ra...        NaN       NaN   \n",
              "60  [Stars:Brenton Thwaites, Teagan Croft, Anna Di...     63,395       NaN   \n",
              "59  [Waleed Elgadi, Hayat Kamille, Thaer Al-Shayei...     11,486       NaN   \n",
              "9   [Sarah Paulson, Kiera Allen, Sara Sohn, Pat He...     10,595       NaN   \n",
              "\n",
              "      Title Type  Year (Begin) Year (End)  \n",
              "98  Feature Film          1972             \n",
              "54  Feature Film          1987             \n",
              "31  Feature Film          1989             \n",
              "34  Feature Film          1990             \n",
              "55     TV Series          1990       1996  \n",
              "..           ...           ...        ...  \n",
              "44     TV Series          2020    ongoing  \n",
              "5   Feature Film          2021             \n",
              "60     TV Series          2018    ongoing  \n",
              "59  Feature Film          2019             \n",
              "9   Feature Film          2020             \n",
              "\n",
              "[100 rows x 14 columns]"
            ],
            "text/html": "<div>\n<style scoped>\n    .dataframe tbody tr th:only-of-type {\n        vertical-align: middle;\n    }\n\n    .dataframe tbody tr th {\n        vertical-align: top;\n    }\n\n    .dataframe thead th {\n        text-align: right;\n    }\n</style>\n<table border=\"1\" class=\"dataframe\">\n  <thead>\n    <tr style=\"text-align: right;\">\n      <th></th>\n      <th>Title</th>\n      <th>Year</th>\n      <th>Runtime</th>\n      <th>Genre</th>\n      <th>Rating</th>\n      <th>Score</th>\n      <th>Description</th>\n      <th>Director</th>\n      <th>Stars</th>\n      <th>Votes</th>\n      <th>Gross</th>\n      <th>Title Type</th>\n      <th>Year (Begin)</th>\n      <th>Year (End)</th>\n    </tr>\n  </thead>\n  <tbody>\n    <tr>\n      <th>98</th>\n      <td>O Poderoso Chefão</td>\n      <td>1972</td>\n      <td>175</td>\n      <td>[Crime,  Drama]</td>\n      <td>9.2</td>\n      <td>NaN</td>\n      <td>The aging patriarch of an organized crime dyna...</td>\n      <td>Francis Ford Coppola</td>\n      <td>[Marlon Brando, Al Pacino, James Caan, Diane K...</td>\n      <td>1,596,220</td>\n      <td>$134.97M</td>\n      <td>Feature Film</td>\n      <td>1972</td>\n      <td></td>\n    </tr>\n    <tr>\n      <th>54</th>\n      <td>Antes Só do que Mal Acompanhado</td>\n      <td>1987</td>\n      <td>93</td>\n      <td>[Comedy,  Drama]</td>\n      <td>7.6</td>\n      <td>NaN</td>\n      <td>A man must struggle to travel home for Thanksg...</td>\n      <td>John Hughes</td>\n      <td>[Steve Martin, John Candy, Laila Robins, Micha...</td>\n      <td>121,923</td>\n      <td>$49.53M</td>\n      <td>Feature Film</td>\n      <td>1987</td>\n      <td></td>\n    </tr>\n    <tr>\n      <th>31</th>\n      <td>Férias Frustradas de Natal</td>\n      <td>1989</td>\n      <td>97</td>\n      <td>[Comedy]</td>\n      <td>7.6</td>\n      <td>NaN</td>\n      <td>The Griswold family's plans for a big family C...</td>\n      <td>Jeremiah S. Chechik</td>\n      <td>[Chevy Chase, Beverly D'Angelo, Juliette Lewis...</td>\n      <td>150,128</td>\n      <td>$71.32M</td>\n      <td>Feature Film</td>\n      <td>1989</td>\n      <td></td>\n    </tr>\n    <tr>\n      <th>34</th>\n      <td>Esqueceram de Mim</td>\n      <td>1990</td>\n      <td>103</td>\n      <td>[Comedy,  Family]</td>\n      <td>7.6</td>\n      <td>NaN</td>\n      <td>An eight-year-old troublemaker must protect hi...</td>\n      <td>Chris Columbus</td>\n      <td>[Macaulay Culkin, Joe Pesci, Daniel Stern, Joh...</td>\n      <td>460,291</td>\n      <td>$285.76M</td>\n      <td>Feature Film</td>\n      <td>1990</td>\n      <td></td>\n    </tr>\n    <tr>\n      <th>55</th>\n      <td>Um Maluco no Pedaço</td>\n      <td>1990–1996</td>\n      <td>22</td>\n      <td>[Comedy]</td>\n      <td>7.9</td>\n      <td>NaN</td>\n      <td>A streetwise, poor young man from Philadelphia...</td>\n      <td>NaN</td>\n      <td>[Stars:Will Smith, James Avery, Alfonso Ribeir...</td>\n      <td>119,689</td>\n      <td>NaN</td>\n      <td>TV Series</td>\n      <td>1990</td>\n      <td>1996</td>\n    </tr>\n    <tr>\n      <th>...</th>\n      <td>...</td>\n      <td>...</td>\n      <td>...</td>\n      <td>...</td>\n      <td>...</td>\n      <td>...</td>\n      <td>...</td>\n      <td>...</td>\n      <td>...</td>\n      <td>...</td>\n      <td>...</td>\n      <td>...</td>\n      <td>...</td>\n      <td>...</td>\n    </tr>\n    <tr>\n      <th>44</th>\n      <td>Saved by the Bell</td>\n      <td>2020–</td>\n      <td>NaN</td>\n      <td>[Comedy]</td>\n      <td>4.9</td>\n      <td>NaN</td>\n      <td>A follow-up series to the 1990s sitcom. A grou...</td>\n      <td>NaN</td>\n      <td>[Stars:Haskiri Velazquez, Mitchell Hoog, Josie...</td>\n      <td>924</td>\n      <td>NaN</td>\n      <td>TV Series</td>\n      <td>2020</td>\n      <td>ongoing</td>\n    </tr>\n    <tr>\n      <th>5</th>\n      <td>Mundo em Caos</td>\n      <td>2021</td>\n      <td>NaN</td>\n      <td>[Adventure,  Sci-Fi]</td>\n      <td>NaN</td>\n      <td>NaN</td>\n      <td>A dystopian world where there are no women and...</td>\n      <td>Doug Liman</td>\n      <td>[Mads Mikkelsen, Tom Holland, Daisy Ridley, Ra...</td>\n      <td>NaN</td>\n      <td>NaN</td>\n      <td>Feature Film</td>\n      <td>2021</td>\n      <td></td>\n    </tr>\n    <tr>\n      <th>60</th>\n      <td>Titãs</td>\n      <td>I 2018–</td>\n      <td>45</td>\n      <td>[Action,  Adventure,  Crime]</td>\n      <td>7.7</td>\n      <td>NaN</td>\n      <td>A team of young superheroes combat evil and ot...</td>\n      <td>NaN</td>\n      <td>[Stars:Brenton Thwaites, Teagan Croft, Anna Di...</td>\n      <td>63,395</td>\n      <td>NaN</td>\n      <td>TV Series</td>\n      <td>2018</td>\n      <td>ongoing</td>\n    </tr>\n    <tr>\n      <th>59</th>\n      <td>Mosul</td>\n      <td>I 2019</td>\n      <td>86</td>\n      <td>[Action,  Drama,  War]</td>\n      <td>7.3</td>\n      <td>NaN</td>\n      <td>A police unit from Mosul fight to liberate the...</td>\n      <td>Matthew Michael Carnahan</td>\n      <td>[Waleed Elgadi, Hayat Kamille, Thaer Al-Shayei...</td>\n      <td>11,486</td>\n      <td>NaN</td>\n      <td>Feature Film</td>\n      <td>2019</td>\n      <td></td>\n    </tr>\n    <tr>\n      <th>9</th>\n      <td>Run</td>\n      <td>I 2020</td>\n      <td>90</td>\n      <td>[Horror,  Mystery,  Thriller]</td>\n      <td>6.7</td>\n      <td>NaN</td>\n      <td>A homeschooled teenager begins to suspect her ...</td>\n      <td>Aneesh Chaganty</td>\n      <td>[Sarah Paulson, Kiera Allen, Sara Sohn, Pat He...</td>\n      <td>10,595</td>\n      <td>NaN</td>\n      <td>Feature Film</td>\n      <td>2020</td>\n      <td></td>\n    </tr>\n  </tbody>\n</table>\n<p>100 rows × 14 columns</p>\n</div>"
          },
          "metadata": {},
          "execution_count": 10
        }
      ],
      "source": [
        "df.sort_values(by=['Year'], ascending= True)"
      ]
    },
    {
      "source": [
        "---"
      ],
      "cell_type": "markdown",
      "metadata": {}
    },
    {
      "source": [
        "### &nbsp; &nbsp; &nbsp; 2.7 Ordena os filmes por Ano do mais recente para o mais antigo. (Descending Order)"
      ],
      "cell_type": "markdown",
      "metadata": {}
    },
    {
      "source": [
        "---"
      ],
      "cell_type": "markdown",
      "metadata": {}
    },
    {
      "cell_type": "code",
      "execution_count": 11,
      "metadata": {},
      "outputs": [
        {
          "output_type": "execute_result",
          "data": {
            "text/plain": [
              "                              Title       Year Runtime  \\\n",
              "5                     Mundo em Caos       2021     NaN   \n",
              "99              Fúria Incontrolável       2020      90   \n",
              "73              O Diabo de Cada Dia       2020     138   \n",
              "27                Os Novos Mutantes       2020      94   \n",
              "80                            Emma.       2020     124   \n",
              "..                              ...        ...     ...   \n",
              "55              Um Maluco no Pedaço  1990–1996      22   \n",
              "34                Esqueceram de Mim       1990     103   \n",
              "31       Férias Frustradas de Natal       1989      97   \n",
              "54  Antes Só do que Mal Acompanhado       1987      93   \n",
              "98                O Poderoso Chefão       1972     175   \n",
              "\n",
              "                         Genre Rating Score  \\\n",
              "5         [Adventure,  Sci-Fi]    NaN   NaN   \n",
              "99         [Action,  Thriller]    6.0   NaN   \n",
              "73  [Crime,  Drama,  Thriller]    7.1   NaN   \n",
              "27  [Action,  Horror,  Sci-Fi]    5.3   NaN   \n",
              "80  [Comedy,  Drama,  Romance]    6.7   NaN   \n",
              "..                         ...    ...   ...   \n",
              "55                    [Comedy]    7.9   NaN   \n",
              "34           [Comedy,  Family]    7.6   NaN   \n",
              "31                    [Comedy]    7.6   NaN   \n",
              "54            [Comedy,  Drama]    7.6   NaN   \n",
              "98             [Crime,  Drama]    9.2   NaN   \n",
              "\n",
              "                                          Description              Director  \\\n",
              "5   A dystopian world where there are no women and...            Doug Liman   \n",
              "99  After a confrontation with an unstable man at ...         Derrick Borte   \n",
              "73  Sinister characters converge around a young ma...        Antonio Campos   \n",
              "27  Five young mutants, just discovering their abi...            Josh Boone   \n",
              "80  In 1800s England, a well meaning but selfish y...       Autumn de Wilde   \n",
              "..                                                ...                   ...   \n",
              "55  A streetwise, poor young man from Philadelphia...                   NaN   \n",
              "34  An eight-year-old troublemaker must protect hi...        Chris Columbus   \n",
              "31  The Griswold family's plans for a big family C...   Jeremiah S. Chechik   \n",
              "54  A man must struggle to travel home for Thanksg...           John Hughes   \n",
              "98  The aging patriarch of an organized crime dyna...  Francis Ford Coppola   \n",
              "\n",
              "                                                Stars      Votes     Gross  \\\n",
              "5   [Mads Mikkelsen, Tom Holland, Daisy Ridley, Ra...        NaN       NaN   \n",
              "99  [Russell Crowe, Caren Pistorius, Gabriel Batem...     23,897       NaN   \n",
              "73  [Donald Ray Pollock, Bill Skarsgård, Tom Holla...     77,652       NaN   \n",
              "27  [Maisie Williams, Anya Taylor-Joy, Charlie Hea...     30,489       NaN   \n",
              "80  [Anya Taylor-Joy, Johnny Flynn, Mia Goth, Angu...     24,685       NaN   \n",
              "..                                                ...        ...       ...   \n",
              "55  [Stars:Will Smith, James Avery, Alfonso Ribeir...    119,689       NaN   \n",
              "34  [Macaulay Culkin, Joe Pesci, Daniel Stern, Joh...    460,291  $285.76M   \n",
              "31  [Chevy Chase, Beverly D'Angelo, Juliette Lewis...    150,128   $71.32M   \n",
              "54  [Steve Martin, John Candy, Laila Robins, Micha...    121,923   $49.53M   \n",
              "98  [Marlon Brando, Al Pacino, James Caan, Diane K...  1,596,220  $134.97M   \n",
              "\n",
              "      Title Type  Year (Begin) Year (End)  \n",
              "5   Feature Film          2021             \n",
              "99  Feature Film          2020             \n",
              "73  Feature Film          2020             \n",
              "27  Feature Film          2020             \n",
              "80  Feature Film          2020             \n",
              "..           ...           ...        ...  \n",
              "55     TV Series          1990       1996  \n",
              "34  Feature Film          1990             \n",
              "31  Feature Film          1989             \n",
              "54  Feature Film          1987             \n",
              "98  Feature Film          1972             \n",
              "\n",
              "[100 rows x 14 columns]"
            ],
            "text/html": "<div>\n<style scoped>\n    .dataframe tbody tr th:only-of-type {\n        vertical-align: middle;\n    }\n\n    .dataframe tbody tr th {\n        vertical-align: top;\n    }\n\n    .dataframe thead th {\n        text-align: right;\n    }\n</style>\n<table border=\"1\" class=\"dataframe\">\n  <thead>\n    <tr style=\"text-align: right;\">\n      <th></th>\n      <th>Title</th>\n      <th>Year</th>\n      <th>Runtime</th>\n      <th>Genre</th>\n      <th>Rating</th>\n      <th>Score</th>\n      <th>Description</th>\n      <th>Director</th>\n      <th>Stars</th>\n      <th>Votes</th>\n      <th>Gross</th>\n      <th>Title Type</th>\n      <th>Year (Begin)</th>\n      <th>Year (End)</th>\n    </tr>\n  </thead>\n  <tbody>\n    <tr>\n      <th>5</th>\n      <td>Mundo em Caos</td>\n      <td>2021</td>\n      <td>NaN</td>\n      <td>[Adventure,  Sci-Fi]</td>\n      <td>NaN</td>\n      <td>NaN</td>\n      <td>A dystopian world where there are no women and...</td>\n      <td>Doug Liman</td>\n      <td>[Mads Mikkelsen, Tom Holland, Daisy Ridley, Ra...</td>\n      <td>NaN</td>\n      <td>NaN</td>\n      <td>Feature Film</td>\n      <td>2021</td>\n      <td></td>\n    </tr>\n    <tr>\n      <th>99</th>\n      <td>Fúria Incontrolável</td>\n      <td>2020</td>\n      <td>90</td>\n      <td>[Action,  Thriller]</td>\n      <td>6.0</td>\n      <td>NaN</td>\n      <td>After a confrontation with an unstable man at ...</td>\n      <td>Derrick Borte</td>\n      <td>[Russell Crowe, Caren Pistorius, Gabriel Batem...</td>\n      <td>23,897</td>\n      <td>NaN</td>\n      <td>Feature Film</td>\n      <td>2020</td>\n      <td></td>\n    </tr>\n    <tr>\n      <th>73</th>\n      <td>O Diabo de Cada Dia</td>\n      <td>2020</td>\n      <td>138</td>\n      <td>[Crime,  Drama,  Thriller]</td>\n      <td>7.1</td>\n      <td>NaN</td>\n      <td>Sinister characters converge around a young ma...</td>\n      <td>Antonio Campos</td>\n      <td>[Donald Ray Pollock, Bill Skarsgård, Tom Holla...</td>\n      <td>77,652</td>\n      <td>NaN</td>\n      <td>Feature Film</td>\n      <td>2020</td>\n      <td></td>\n    </tr>\n    <tr>\n      <th>27</th>\n      <td>Os Novos Mutantes</td>\n      <td>2020</td>\n      <td>94</td>\n      <td>[Action,  Horror,  Sci-Fi]</td>\n      <td>5.3</td>\n      <td>NaN</td>\n      <td>Five young mutants, just discovering their abi...</td>\n      <td>Josh Boone</td>\n      <td>[Maisie Williams, Anya Taylor-Joy, Charlie Hea...</td>\n      <td>30,489</td>\n      <td>NaN</td>\n      <td>Feature Film</td>\n      <td>2020</td>\n      <td></td>\n    </tr>\n    <tr>\n      <th>80</th>\n      <td>Emma.</td>\n      <td>2020</td>\n      <td>124</td>\n      <td>[Comedy,  Drama,  Romance]</td>\n      <td>6.7</td>\n      <td>NaN</td>\n      <td>In 1800s England, a well meaning but selfish y...</td>\n      <td>Autumn de Wilde</td>\n      <td>[Anya Taylor-Joy, Johnny Flynn, Mia Goth, Angu...</td>\n      <td>24,685</td>\n      <td>NaN</td>\n      <td>Feature Film</td>\n      <td>2020</td>\n      <td></td>\n    </tr>\n    <tr>\n      <th>...</th>\n      <td>...</td>\n      <td>...</td>\n      <td>...</td>\n      <td>...</td>\n      <td>...</td>\n      <td>...</td>\n      <td>...</td>\n      <td>...</td>\n      <td>...</td>\n      <td>...</td>\n      <td>...</td>\n      <td>...</td>\n      <td>...</td>\n      <td>...</td>\n    </tr>\n    <tr>\n      <th>55</th>\n      <td>Um Maluco no Pedaço</td>\n      <td>1990–1996</td>\n      <td>22</td>\n      <td>[Comedy]</td>\n      <td>7.9</td>\n      <td>NaN</td>\n      <td>A streetwise, poor young man from Philadelphia...</td>\n      <td>NaN</td>\n      <td>[Stars:Will Smith, James Avery, Alfonso Ribeir...</td>\n      <td>119,689</td>\n      <td>NaN</td>\n      <td>TV Series</td>\n      <td>1990</td>\n      <td>1996</td>\n    </tr>\n    <tr>\n      <th>34</th>\n      <td>Esqueceram de Mim</td>\n      <td>1990</td>\n      <td>103</td>\n      <td>[Comedy,  Family]</td>\n      <td>7.6</td>\n      <td>NaN</td>\n      <td>An eight-year-old troublemaker must protect hi...</td>\n      <td>Chris Columbus</td>\n      <td>[Macaulay Culkin, Joe Pesci, Daniel Stern, Joh...</td>\n      <td>460,291</td>\n      <td>$285.76M</td>\n      <td>Feature Film</td>\n      <td>1990</td>\n      <td></td>\n    </tr>\n    <tr>\n      <th>31</th>\n      <td>Férias Frustradas de Natal</td>\n      <td>1989</td>\n      <td>97</td>\n      <td>[Comedy]</td>\n      <td>7.6</td>\n      <td>NaN</td>\n      <td>The Griswold family's plans for a big family C...</td>\n      <td>Jeremiah S. Chechik</td>\n      <td>[Chevy Chase, Beverly D'Angelo, Juliette Lewis...</td>\n      <td>150,128</td>\n      <td>$71.32M</td>\n      <td>Feature Film</td>\n      <td>1989</td>\n      <td></td>\n    </tr>\n    <tr>\n      <th>54</th>\n      <td>Antes Só do que Mal Acompanhado</td>\n      <td>1987</td>\n      <td>93</td>\n      <td>[Comedy,  Drama]</td>\n      <td>7.6</td>\n      <td>NaN</td>\n      <td>A man must struggle to travel home for Thanksg...</td>\n      <td>John Hughes</td>\n      <td>[Steve Martin, John Candy, Laila Robins, Micha...</td>\n      <td>121,923</td>\n      <td>$49.53M</td>\n      <td>Feature Film</td>\n      <td>1987</td>\n      <td></td>\n    </tr>\n    <tr>\n      <th>98</th>\n      <td>O Poderoso Chefão</td>\n      <td>1972</td>\n      <td>175</td>\n      <td>[Crime,  Drama]</td>\n      <td>9.2</td>\n      <td>NaN</td>\n      <td>The aging patriarch of an organized crime dyna...</td>\n      <td>Francis Ford Coppola</td>\n      <td>[Marlon Brando, Al Pacino, James Caan, Diane K...</td>\n      <td>1,596,220</td>\n      <td>$134.97M</td>\n      <td>Feature Film</td>\n      <td>1972</td>\n      <td></td>\n    </tr>\n  </tbody>\n</table>\n<p>100 rows × 14 columns</p>\n</div>"
          },
          "metadata": {},
          "execution_count": 11
        }
      ],
      "source": [
        "df.sort_values(by=['Year (Begin)'], ascending= False)"
      ]
    },
    {
      "source": [
        "### &nbsp; &nbsp; &nbsp; 2.8 Ordena a base de dados de acordo com o gênero de filme escolhido."
      ],
      "cell_type": "markdown",
      "metadata": {}
    },
    {
      "cell_type": "code",
      "execution_count": 12,
      "metadata": {},
      "outputs": [],
      "source": [
        "#xlwriter = pd.ExcelWriter('IMDB_df.xlsx')       \n",
        "    #df.to_excel(xlwriter, sheet_name='IMDB Movies', index=False)\n",
        "#xlwriter.close()"
      ]
    },
    {
      "source": [
        "### &nbsp; &nbsp; &nbsp; Obs: eu exportei a base para o excel para poder fazer texto para colunas da coluna Genre."
      ],
      "cell_type": "markdown",
      "metadata": {}
    },
    {
      "cell_type": "code",
      "execution_count": 14,
      "metadata": {},
      "outputs": [
        {
          "output_type": "execute_result",
          "data": {
            "text/plain": [
              "                   Title       Year Runtime Genre_1      Genre_2     Genre_3  \\\n",
              "0               The Boys     2019–       60  Action       Comedy       Crime   \n",
              "1   O Halloween do Hubie       2020     102  Comedy      Fantasy     Mystery   \n",
              "2         Emily em Paris     2020–       30  Comedy        Drama     Romance   \n",
              "3       The Walking Dead     2010–       44   Drama       Horror    Thriller   \n",
              "4                Ratched     2020–        -   Crime        Drama     Mystery   \n",
              "..                   ...        ...     ...     ...          ...         ...   \n",
              "95       Família Soprano  1999–2007      55   Crime        Drama           -   \n",
              "96     News of the World       2020       -  Action    Adventure       Drama   \n",
              "97                   Ava    IV 2020      96  Action        Crime       Drama   \n",
              "98     O Homem Invisível     I 2020     124  Horror      Mystery      Sci-Fi   \n",
              "99           Caixa Preta    II 2020     100  Horror      Mystery      Sci-Fi   \n",
              "\n",
              "   Rating Score                                        Description  \\\n",
              "0     8.7     -  A group of vigilantes sets out to take down co...   \n",
              "1     5.2     -  Despite his devotion to his hometown of Salem ...   \n",
              "2     7.3     -  A young American woman from the Midwest is hir...   \n",
              "3     8.2     -  Sheriff Deputy Rick Grimes wakes up from a com...   \n",
              "4     7.4     -  In 1947, Mildred Ratched begins working as a n...   \n",
              "..    ...   ...                                                ...   \n",
              "95    9.2     -  New Jersey mob boss Tony Soprano deals with pe...   \n",
              "96      -     -  A Civil War veteran agrees to deliver a girl, ...   \n",
              "97    5.3    39  Ava is a deadly assassin who works for a black...   \n",
              "98    7.1     -  When Cecilia's abusive ex takes his own life a...   \n",
              "99    6.0     -  After losing his wife and his memory in a car ...   \n",
              "\n",
              "                 Director                                              Stars  \\\n",
              "0                       -  ['Stars:Karl Urban', 'Jack Quaid', 'Antony Sta...   \n",
              "1            Steven Brill  ['Adam Sandler', 'Kevin James', 'Julie Bowen',...   \n",
              "2                       -  ['Stars:Lily Collins', 'Philippine Leroy-Beaul...   \n",
              "3                       -  ['Stars:Andrew Lincoln', 'Norman Reedus', 'Mel...   \n",
              "4                       -  ['Stars:Sarah Paulson', 'Finn Wittrock', 'Cynt...   \n",
              "..                    ...                                                ...   \n",
              "95                      -  ['Stars:James Gandolfini', 'Lorraine Bracco', ...   \n",
              "96        Paul Greengrass  ['Tom Hanks', 'Elizabeth Marvel', 'Ray McKinno...   \n",
              "97            Tate Taylor  ['Jessica Chastain', 'John Malkovich', 'Common...   \n",
              "98         Leigh Whannell  ['Elisabeth Moss', 'Oliver Jackson-Cohen', 'Ha...   \n",
              "99  Emmanuel Osei-Kuffour  ['Mamoudou Athie', 'Phylicia Rashad', 'Amanda ...   \n",
              "\n",
              "      Votes    Gross    Title Type  Year (Begin) Year (End)  \n",
              "0   197,179        -     TV Series          2019    ongoing  \n",
              "1    19,686        -  Feature Film          2020          -  \n",
              "2    16,953        -     TV Series          2020    ongoing  \n",
              "3   836,518        -     TV Series          2010    ongoing  \n",
              "4    22,668        -     TV Series          2020    ongoing  \n",
              "..      ...      ...           ...           ...        ...  \n",
              "95  289,859        -     TV Series          1999       2007  \n",
              "96        -        -  Feature Film          2020          -  \n",
              "97   14,662        -  Feature Film          2020          -  \n",
              "98  140,141  $64.91M  Feature Film          2020          -  \n",
              "99    2,443        -  Feature Film          2020          -  \n",
              "\n",
              "[100 rows x 16 columns]"
            ],
            "text/html": "<div>\n<style scoped>\n    .dataframe tbody tr th:only-of-type {\n        vertical-align: middle;\n    }\n\n    .dataframe tbody tr th {\n        vertical-align: top;\n    }\n\n    .dataframe thead th {\n        text-align: right;\n    }\n</style>\n<table border=\"1\" class=\"dataframe\">\n  <thead>\n    <tr style=\"text-align: right;\">\n      <th></th>\n      <th>Title</th>\n      <th>Year</th>\n      <th>Runtime</th>\n      <th>Genre_1</th>\n      <th>Genre_2</th>\n      <th>Genre_3</th>\n      <th>Rating</th>\n      <th>Score</th>\n      <th>Description</th>\n      <th>Director</th>\n      <th>Stars</th>\n      <th>Votes</th>\n      <th>Gross</th>\n      <th>Title Type</th>\n      <th>Year (Begin)</th>\n      <th>Year (End)</th>\n    </tr>\n  </thead>\n  <tbody>\n    <tr>\n      <th>0</th>\n      <td>The Boys</td>\n      <td>2019–</td>\n      <td>60</td>\n      <td>Action</td>\n      <td>Comedy</td>\n      <td>Crime</td>\n      <td>8.7</td>\n      <td>-</td>\n      <td>A group of vigilantes sets out to take down co...</td>\n      <td>-</td>\n      <td>['Stars:Karl Urban', 'Jack Quaid', 'Antony Sta...</td>\n      <td>197,179</td>\n      <td>-</td>\n      <td>TV Series</td>\n      <td>2019</td>\n      <td>ongoing</td>\n    </tr>\n    <tr>\n      <th>1</th>\n      <td>O Halloween do Hubie</td>\n      <td>2020</td>\n      <td>102</td>\n      <td>Comedy</td>\n      <td>Fantasy</td>\n      <td>Mystery</td>\n      <td>5.2</td>\n      <td>-</td>\n      <td>Despite his devotion to his hometown of Salem ...</td>\n      <td>Steven Brill</td>\n      <td>['Adam Sandler', 'Kevin James', 'Julie Bowen',...</td>\n      <td>19,686</td>\n      <td>-</td>\n      <td>Feature Film</td>\n      <td>2020</td>\n      <td>-</td>\n    </tr>\n    <tr>\n      <th>2</th>\n      <td>Emily em Paris</td>\n      <td>2020–</td>\n      <td>30</td>\n      <td>Comedy</td>\n      <td>Drama</td>\n      <td>Romance</td>\n      <td>7.3</td>\n      <td>-</td>\n      <td>A young American woman from the Midwest is hir...</td>\n      <td>-</td>\n      <td>['Stars:Lily Collins', 'Philippine Leroy-Beaul...</td>\n      <td>16,953</td>\n      <td>-</td>\n      <td>TV Series</td>\n      <td>2020</td>\n      <td>ongoing</td>\n    </tr>\n    <tr>\n      <th>3</th>\n      <td>The Walking Dead</td>\n      <td>2010–</td>\n      <td>44</td>\n      <td>Drama</td>\n      <td>Horror</td>\n      <td>Thriller</td>\n      <td>8.2</td>\n      <td>-</td>\n      <td>Sheriff Deputy Rick Grimes wakes up from a com...</td>\n      <td>-</td>\n      <td>['Stars:Andrew Lincoln', 'Norman Reedus', 'Mel...</td>\n      <td>836,518</td>\n      <td>-</td>\n      <td>TV Series</td>\n      <td>2010</td>\n      <td>ongoing</td>\n    </tr>\n    <tr>\n      <th>4</th>\n      <td>Ratched</td>\n      <td>2020–</td>\n      <td>-</td>\n      <td>Crime</td>\n      <td>Drama</td>\n      <td>Mystery</td>\n      <td>7.4</td>\n      <td>-</td>\n      <td>In 1947, Mildred Ratched begins working as a n...</td>\n      <td>-</td>\n      <td>['Stars:Sarah Paulson', 'Finn Wittrock', 'Cynt...</td>\n      <td>22,668</td>\n      <td>-</td>\n      <td>TV Series</td>\n      <td>2020</td>\n      <td>ongoing</td>\n    </tr>\n    <tr>\n      <th>...</th>\n      <td>...</td>\n      <td>...</td>\n      <td>...</td>\n      <td>...</td>\n      <td>...</td>\n      <td>...</td>\n      <td>...</td>\n      <td>...</td>\n      <td>...</td>\n      <td>...</td>\n      <td>...</td>\n      <td>...</td>\n      <td>...</td>\n      <td>...</td>\n      <td>...</td>\n      <td>...</td>\n    </tr>\n    <tr>\n      <th>95</th>\n      <td>Família Soprano</td>\n      <td>1999–2007</td>\n      <td>55</td>\n      <td>Crime</td>\n      <td>Drama</td>\n      <td>-</td>\n      <td>9.2</td>\n      <td>-</td>\n      <td>New Jersey mob boss Tony Soprano deals with pe...</td>\n      <td>-</td>\n      <td>['Stars:James Gandolfini', 'Lorraine Bracco', ...</td>\n      <td>289,859</td>\n      <td>-</td>\n      <td>TV Series</td>\n      <td>1999</td>\n      <td>2007</td>\n    </tr>\n    <tr>\n      <th>96</th>\n      <td>News of the World</td>\n      <td>2020</td>\n      <td>-</td>\n      <td>Action</td>\n      <td>Adventure</td>\n      <td>Drama</td>\n      <td>-</td>\n      <td>-</td>\n      <td>A Civil War veteran agrees to deliver a girl, ...</td>\n      <td>Paul Greengrass</td>\n      <td>['Tom Hanks', 'Elizabeth Marvel', 'Ray McKinno...</td>\n      <td>-</td>\n      <td>-</td>\n      <td>Feature Film</td>\n      <td>2020</td>\n      <td>-</td>\n    </tr>\n    <tr>\n      <th>97</th>\n      <td>Ava</td>\n      <td>IV 2020</td>\n      <td>96</td>\n      <td>Action</td>\n      <td>Crime</td>\n      <td>Drama</td>\n      <td>5.3</td>\n      <td>39</td>\n      <td>Ava is a deadly assassin who works for a black...</td>\n      <td>Tate Taylor</td>\n      <td>['Jessica Chastain', 'John Malkovich', 'Common...</td>\n      <td>14,662</td>\n      <td>-</td>\n      <td>Feature Film</td>\n      <td>2020</td>\n      <td>-</td>\n    </tr>\n    <tr>\n      <th>98</th>\n      <td>O Homem Invisível</td>\n      <td>I 2020</td>\n      <td>124</td>\n      <td>Horror</td>\n      <td>Mystery</td>\n      <td>Sci-Fi</td>\n      <td>7.1</td>\n      <td>-</td>\n      <td>When Cecilia's abusive ex takes his own life a...</td>\n      <td>Leigh Whannell</td>\n      <td>['Elisabeth Moss', 'Oliver Jackson-Cohen', 'Ha...</td>\n      <td>140,141</td>\n      <td>$64.91M</td>\n      <td>Feature Film</td>\n      <td>2020</td>\n      <td>-</td>\n    </tr>\n    <tr>\n      <th>99</th>\n      <td>Caixa Preta</td>\n      <td>II 2020</td>\n      <td>100</td>\n      <td>Horror</td>\n      <td>Mystery</td>\n      <td>Sci-Fi</td>\n      <td>6.0</td>\n      <td>-</td>\n      <td>After losing his wife and his memory in a car ...</td>\n      <td>Emmanuel Osei-Kuffour</td>\n      <td>['Mamoudou Athie', 'Phylicia Rashad', 'Amanda ...</td>\n      <td>2,443</td>\n      <td>-</td>\n      <td>Feature Film</td>\n      <td>2020</td>\n      <td>-</td>\n    </tr>\n  </tbody>\n</table>\n<p>100 rows × 16 columns</p>\n</div>"
          },
          "metadata": {},
          "execution_count": 14
        }
      ],
      "source": [
        "df_movies = pd.read_excel(r'C:\\\\Users\\\\olivi\\\\Desktop\\\\7 - Construção do Portifólio\\\\Projetos do BI Master\\\\LUI - Localização e Uso da Informação\\\\IMDB_df.xlsx')\n",
        "df_movies"
      ]
    },
    {
      "cell_type": "code",
      "execution_count": 15,
      "metadata": {},
      "outputs": [
        {
          "output_type": "stream",
          "name": "stdout",
          "text": [
            "Variável genero: Comedy\n"
          ]
        }
      ],
      "source": [
        "genero = input('Digite o gênero de filme desejado: ')\n",
        "print('Variável genero: ' + genero)"
      ]
    },
    {
      "cell_type": "code",
      "execution_count": 19,
      "metadata": {},
      "outputs": [
        {
          "output_type": "execute_result",
          "data": {
            "text/plain": [
              "                                        Title       Year Runtime Genre_1  \\\n",
              "1                        O Halloween do Hubie       2020     102  Comedy   \n",
              "2                              Emily em Paris     2020–       30  Comedy   \n",
              "6                              Schitt's Creek  2015–2020      22  Comedy   \n",
              "15                                Abracadabra       1993      96  Comedy   \n",
              "21  American Pie Apresenta: Meninas ao Ataque       2020       -  Comedy   \n",
              "27                                  Ted Lasso     2020–       30  Comedy   \n",
              "32                Borat: Subsequent Moviefilm       2020      95  Comedy   \n",
              "34                         Vida de Escritório  2005–2013      22  Comedy   \n",
              "44                       Vampiros X the Bronx       2020      85  Comedy   \n",
              "49                                    Friends  1994–2004      22  Comedy   \n",
              "54                                   New Girl  2011–2018      22  Comedy   \n",
              "57                                O Bom Lugar  2016–2020      22  Comedy   \n",
              "60                           A Família Addams       1991      99  Comedy   \n",
              "64                            Família Moderna  2009–2020      22  Comedy   \n",
              "69                                  Shameless     2011–       46  Comedy   \n",
              "72          Gilmore Girls: Tal Mãe, Tal Filha  2000–2007      44  Comedy   \n",
              "73                                  Community  2009–2015      22  Comedy   \n",
              "74                         Big Bang: A Teoria  2007–2019      22  Comedy   \n",
              "76                   Os Fantasmas se Divertem       1988      92  Comedy   \n",
              "82                     Entre Facas e Segredos       2019     130  Comedy   \n",
              "93                             Lei & Desordem     2013–       22  Comedy   \n",
              "\n",
              "      Genre_2    Genre_3 Rating Score  \\\n",
              "1     Fantasy    Mystery    5.2     -   \n",
              "2       Drama    Romance    7.3     -   \n",
              "6           -          -    8.5     -   \n",
              "15     Family    Fantasy    6.9     -   \n",
              "21          -          -    3.7     -   \n",
              "27      Drama      Sport    8.7     -   \n",
              "32          -          -      -     -   \n",
              "34          -          -    8.9     -   \n",
              "44     Horror          -    5.4     -   \n",
              "49    Romance          -    8.9     -   \n",
              "54          -          -    7.7     -   \n",
              "57      Drama    Fantasy    8.2     -   \n",
              "60    Fantasy          -    6.9     -   \n",
              "64      Drama    Romance    8.4     -   \n",
              "69      Drama          -    8.6     -   \n",
              "72      Drama          -    8.1     -   \n",
              "73          -          -    8.5     -   \n",
              "74    Romance          -    8.1     -   \n",
              "76    Fantasy          -    7.5     -   \n",
              "82      Crime      Drama    7.9     -   \n",
              "93      Crime          -    8.4     -   \n",
              "\n",
              "                                          Description          Director  \\\n",
              "1   Despite his devotion to his hometown of Salem ...      Steven Brill   \n",
              "2   A young American woman from the Midwest is hir...                 -   \n",
              "6   When rich video-store magnate Johnny Rose and ...                 -   \n",
              "15  A curious youngster moves to Salem, where he s...      Kenny Ortega   \n",
              "21  It's Senior year at East Great Falls. Annie, K...      Mike Elliott   \n",
              "27  Follows US American Football coach Ted Lasso h...                 -   \n",
              "32  Follow-up film to the 2006 comedy centering on...     Jason Woliner   \n",
              "34  A mockumentary on a group of typical office wo...                 -   \n",
              "44  A group of young friends from the Bronx fight ...  Osmany Rodriguez   \n",
              "49  Follows the personal and professional lives of...                 -   \n",
              "54  After a bad break-up, Jess, an offbeat young w...                 -   \n",
              "57  Four people and their otherworldly frienemy st...                 -   \n",
              "60  Con artists plan to fleece an eccentric family...  Barry Sonnenfeld   \n",
              "64  Three different but related families face tria...                 -   \n",
              "69  A scrappy, feisty, fiercely loyal Chicago fami...                 -   \n",
              "72  A dramedy centering around the relationship be...                 -   \n",
              "73  A suspended lawyer is forced to enroll in a co...                 -   \n",
              "74  A woman who moves into an apartment across the...                 -   \n",
              "76  The spirits of a deceased couple are harassed ...        Tim Burton   \n",
              "82  A detective investigates the death of a patria...      Rian Johnson   \n",
              "93  \"Brooklyn Nine-Nine\" follows the exploits of h...                 -   \n",
              "\n",
              "                                                Stars    Votes     Gross  \\\n",
              "1   ['Adam Sandler', 'Kevin James', 'Julie Bowen',...   19,686         -   \n",
              "2   ['Stars:Lily Collins', 'Philippine Leroy-Beaul...   16,953         -   \n",
              "6   ['Stars:Eugene Levy', \"Catherine O'Hara\", 'Dan...   47,830         -   \n",
              "15  ['Bette Midler', 'Sarah Jessica Parker', 'Kath...   94,948   $39.51M   \n",
              "21  ['Madison Pettis', 'Lizze Broadway', 'Natasha ...    2,214         -   \n",
              "27  ['Stars:Jason Sudeikis', 'Hannah Waddingham', ...   15,322         -   \n",
              "32  ['Sacha Baron Cohen', 'Irina Novak', 'Luenell'...        -         -   \n",
              "34  ['Stars:Steve Carell', 'Jenna Fischer', 'John ...  385,023         -   \n",
              "44  ['Jaden Michael', 'Gerald Jones III', 'Gregory...    4,002         -   \n",
              "49  ['Stars:Jennifer Aniston', 'Courteney Cox', 'L...  792,703         -   \n",
              "54  ['Stars:Zooey Deschanel', 'Jake Johnson', 'Max...  184,727         -   \n",
              "57  ['Stars:Kristen Bell', 'William Jackson Harper...  105,025         -   \n",
              "60  ['Anjelica Huston', 'Raul Julia', 'Christopher...  130,006  $113.50M   \n",
              "64  [\"Stars:Ed O'Neill\", 'Sofía Vergara', 'Julie B...  343,070         -   \n",
              "69  ['Stars:Emmy Rossum', 'William H. Macy', 'Jere...  195,465         -   \n",
              "72  ['Stars:Lauren Graham', 'Alexis Bledel', 'Keik...   96,570         -   \n",
              "73  ['Stars:Joel McHale', 'Danny Pudi', 'Donald Gl...  208,555         -   \n",
              "74  ['Stars:Johnny Galecki', 'Jim Parsons', 'Kaley...  704,510         -   \n",
              "76  ['Alec Baldwin', 'Geena Davis', 'Michael Keato...  255,396   $73.71M   \n",
              "82  ['Daniel Craig', 'Chris Evans', 'Ana de Armas'...  401,864  $165.36M   \n",
              "93  ['Stars:Andy Samberg', 'Stephanie Beatriz', 'T...  209,739         -   \n",
              "\n",
              "      Title Type  Year (Begin) Year (End)  \n",
              "1   Feature Film          2020          -  \n",
              "2      TV Series          2020    ongoing  \n",
              "6      TV Series          2015       2020  \n",
              "15  Feature Film          1993          -  \n",
              "21  Feature Film          2020          -  \n",
              "27     TV Series          2020    ongoing  \n",
              "32  Feature Film          2020          -  \n",
              "34     TV Series          2005       2013  \n",
              "44  Feature Film          2020          -  \n",
              "49     TV Series          1994       2004  \n",
              "54     TV Series          2011       2018  \n",
              "57     TV Series          2016       2020  \n",
              "60  Feature Film          1991          -  \n",
              "64     TV Series          2009       2020  \n",
              "69     TV Series          2011    ongoing  \n",
              "72     TV Series          2000       2007  \n",
              "73     TV Series          2009       2015  \n",
              "74     TV Series          2007       2019  \n",
              "76  Feature Film          1988          -  \n",
              "82  Feature Film          2019          -  \n",
              "93     TV Series          2013    ongoing  "
            ],
            "text/html": "<div>\n<style scoped>\n    .dataframe tbody tr th:only-of-type {\n        vertical-align: middle;\n    }\n\n    .dataframe tbody tr th {\n        vertical-align: top;\n    }\n\n    .dataframe thead th {\n        text-align: right;\n    }\n</style>\n<table border=\"1\" class=\"dataframe\">\n  <thead>\n    <tr style=\"text-align: right;\">\n      <th></th>\n      <th>Title</th>\n      <th>Year</th>\n      <th>Runtime</th>\n      <th>Genre_1</th>\n      <th>Genre_2</th>\n      <th>Genre_3</th>\n      <th>Rating</th>\n      <th>Score</th>\n      <th>Description</th>\n      <th>Director</th>\n      <th>Stars</th>\n      <th>Votes</th>\n      <th>Gross</th>\n      <th>Title Type</th>\n      <th>Year (Begin)</th>\n      <th>Year (End)</th>\n    </tr>\n  </thead>\n  <tbody>\n    <tr>\n      <th>1</th>\n      <td>O Halloween do Hubie</td>\n      <td>2020</td>\n      <td>102</td>\n      <td>Comedy</td>\n      <td>Fantasy</td>\n      <td>Mystery</td>\n      <td>5.2</td>\n      <td>-</td>\n      <td>Despite his devotion to his hometown of Salem ...</td>\n      <td>Steven Brill</td>\n      <td>['Adam Sandler', 'Kevin James', 'Julie Bowen',...</td>\n      <td>19,686</td>\n      <td>-</td>\n      <td>Feature Film</td>\n      <td>2020</td>\n      <td>-</td>\n    </tr>\n    <tr>\n      <th>2</th>\n      <td>Emily em Paris</td>\n      <td>2020–</td>\n      <td>30</td>\n      <td>Comedy</td>\n      <td>Drama</td>\n      <td>Romance</td>\n      <td>7.3</td>\n      <td>-</td>\n      <td>A young American woman from the Midwest is hir...</td>\n      <td>-</td>\n      <td>['Stars:Lily Collins', 'Philippine Leroy-Beaul...</td>\n      <td>16,953</td>\n      <td>-</td>\n      <td>TV Series</td>\n      <td>2020</td>\n      <td>ongoing</td>\n    </tr>\n    <tr>\n      <th>6</th>\n      <td>Schitt's Creek</td>\n      <td>2015–2020</td>\n      <td>22</td>\n      <td>Comedy</td>\n      <td>-</td>\n      <td>-</td>\n      <td>8.5</td>\n      <td>-</td>\n      <td>When rich video-store magnate Johnny Rose and ...</td>\n      <td>-</td>\n      <td>['Stars:Eugene Levy', \"Catherine O'Hara\", 'Dan...</td>\n      <td>47,830</td>\n      <td>-</td>\n      <td>TV Series</td>\n      <td>2015</td>\n      <td>2020</td>\n    </tr>\n    <tr>\n      <th>15</th>\n      <td>Abracadabra</td>\n      <td>1993</td>\n      <td>96</td>\n      <td>Comedy</td>\n      <td>Family</td>\n      <td>Fantasy</td>\n      <td>6.9</td>\n      <td>-</td>\n      <td>A curious youngster moves to Salem, where he s...</td>\n      <td>Kenny Ortega</td>\n      <td>['Bette Midler', 'Sarah Jessica Parker', 'Kath...</td>\n      <td>94,948</td>\n      <td>$39.51M</td>\n      <td>Feature Film</td>\n      <td>1993</td>\n      <td>-</td>\n    </tr>\n    <tr>\n      <th>21</th>\n      <td>American Pie Apresenta: Meninas ao Ataque</td>\n      <td>2020</td>\n      <td>-</td>\n      <td>Comedy</td>\n      <td>-</td>\n      <td>-</td>\n      <td>3.7</td>\n      <td>-</td>\n      <td>It's Senior year at East Great Falls. Annie, K...</td>\n      <td>Mike Elliott</td>\n      <td>['Madison Pettis', 'Lizze Broadway', 'Natasha ...</td>\n      <td>2,214</td>\n      <td>-</td>\n      <td>Feature Film</td>\n      <td>2020</td>\n      <td>-</td>\n    </tr>\n    <tr>\n      <th>27</th>\n      <td>Ted Lasso</td>\n      <td>2020–</td>\n      <td>30</td>\n      <td>Comedy</td>\n      <td>Drama</td>\n      <td>Sport</td>\n      <td>8.7</td>\n      <td>-</td>\n      <td>Follows US American Football coach Ted Lasso h...</td>\n      <td>-</td>\n      <td>['Stars:Jason Sudeikis', 'Hannah Waddingham', ...</td>\n      <td>15,322</td>\n      <td>-</td>\n      <td>TV Series</td>\n      <td>2020</td>\n      <td>ongoing</td>\n    </tr>\n    <tr>\n      <th>32</th>\n      <td>Borat: Subsequent Moviefilm</td>\n      <td>2020</td>\n      <td>95</td>\n      <td>Comedy</td>\n      <td>-</td>\n      <td>-</td>\n      <td>-</td>\n      <td>-</td>\n      <td>Follow-up film to the 2006 comedy centering on...</td>\n      <td>Jason Woliner</td>\n      <td>['Sacha Baron Cohen', 'Irina Novak', 'Luenell'...</td>\n      <td>-</td>\n      <td>-</td>\n      <td>Feature Film</td>\n      <td>2020</td>\n      <td>-</td>\n    </tr>\n    <tr>\n      <th>34</th>\n      <td>Vida de Escritório</td>\n      <td>2005–2013</td>\n      <td>22</td>\n      <td>Comedy</td>\n      <td>-</td>\n      <td>-</td>\n      <td>8.9</td>\n      <td>-</td>\n      <td>A mockumentary on a group of typical office wo...</td>\n      <td>-</td>\n      <td>['Stars:Steve Carell', 'Jenna Fischer', 'John ...</td>\n      <td>385,023</td>\n      <td>-</td>\n      <td>TV Series</td>\n      <td>2005</td>\n      <td>2013</td>\n    </tr>\n    <tr>\n      <th>44</th>\n      <td>Vampiros X the Bronx</td>\n      <td>2020</td>\n      <td>85</td>\n      <td>Comedy</td>\n      <td>Horror</td>\n      <td>-</td>\n      <td>5.4</td>\n      <td>-</td>\n      <td>A group of young friends from the Bronx fight ...</td>\n      <td>Osmany Rodriguez</td>\n      <td>['Jaden Michael', 'Gerald Jones III', 'Gregory...</td>\n      <td>4,002</td>\n      <td>-</td>\n      <td>Feature Film</td>\n      <td>2020</td>\n      <td>-</td>\n    </tr>\n    <tr>\n      <th>49</th>\n      <td>Friends</td>\n      <td>1994–2004</td>\n      <td>22</td>\n      <td>Comedy</td>\n      <td>Romance</td>\n      <td>-</td>\n      <td>8.9</td>\n      <td>-</td>\n      <td>Follows the personal and professional lives of...</td>\n      <td>-</td>\n      <td>['Stars:Jennifer Aniston', 'Courteney Cox', 'L...</td>\n      <td>792,703</td>\n      <td>-</td>\n      <td>TV Series</td>\n      <td>1994</td>\n      <td>2004</td>\n    </tr>\n    <tr>\n      <th>54</th>\n      <td>New Girl</td>\n      <td>2011–2018</td>\n      <td>22</td>\n      <td>Comedy</td>\n      <td>-</td>\n      <td>-</td>\n      <td>7.7</td>\n      <td>-</td>\n      <td>After a bad break-up, Jess, an offbeat young w...</td>\n      <td>-</td>\n      <td>['Stars:Zooey Deschanel', 'Jake Johnson', 'Max...</td>\n      <td>184,727</td>\n      <td>-</td>\n      <td>TV Series</td>\n      <td>2011</td>\n      <td>2018</td>\n    </tr>\n    <tr>\n      <th>57</th>\n      <td>O Bom Lugar</td>\n      <td>2016–2020</td>\n      <td>22</td>\n      <td>Comedy</td>\n      <td>Drama</td>\n      <td>Fantasy</td>\n      <td>8.2</td>\n      <td>-</td>\n      <td>Four people and their otherworldly frienemy st...</td>\n      <td>-</td>\n      <td>['Stars:Kristen Bell', 'William Jackson Harper...</td>\n      <td>105,025</td>\n      <td>-</td>\n      <td>TV Series</td>\n      <td>2016</td>\n      <td>2020</td>\n    </tr>\n    <tr>\n      <th>60</th>\n      <td>A Família Addams</td>\n      <td>1991</td>\n      <td>99</td>\n      <td>Comedy</td>\n      <td>Fantasy</td>\n      <td>-</td>\n      <td>6.9</td>\n      <td>-</td>\n      <td>Con artists plan to fleece an eccentric family...</td>\n      <td>Barry Sonnenfeld</td>\n      <td>['Anjelica Huston', 'Raul Julia', 'Christopher...</td>\n      <td>130,006</td>\n      <td>$113.50M</td>\n      <td>Feature Film</td>\n      <td>1991</td>\n      <td>-</td>\n    </tr>\n    <tr>\n      <th>64</th>\n      <td>Família Moderna</td>\n      <td>2009–2020</td>\n      <td>22</td>\n      <td>Comedy</td>\n      <td>Drama</td>\n      <td>Romance</td>\n      <td>8.4</td>\n      <td>-</td>\n      <td>Three different but related families face tria...</td>\n      <td>-</td>\n      <td>[\"Stars:Ed O'Neill\", 'Sofía Vergara', 'Julie B...</td>\n      <td>343,070</td>\n      <td>-</td>\n      <td>TV Series</td>\n      <td>2009</td>\n      <td>2020</td>\n    </tr>\n    <tr>\n      <th>69</th>\n      <td>Shameless</td>\n      <td>2011–</td>\n      <td>46</td>\n      <td>Comedy</td>\n      <td>Drama</td>\n      <td>-</td>\n      <td>8.6</td>\n      <td>-</td>\n      <td>A scrappy, feisty, fiercely loyal Chicago fami...</td>\n      <td>-</td>\n      <td>['Stars:Emmy Rossum', 'William H. Macy', 'Jere...</td>\n      <td>195,465</td>\n      <td>-</td>\n      <td>TV Series</td>\n      <td>2011</td>\n      <td>ongoing</td>\n    </tr>\n    <tr>\n      <th>72</th>\n      <td>Gilmore Girls: Tal Mãe, Tal Filha</td>\n      <td>2000–2007</td>\n      <td>44</td>\n      <td>Comedy</td>\n      <td>Drama</td>\n      <td>-</td>\n      <td>8.1</td>\n      <td>-</td>\n      <td>A dramedy centering around the relationship be...</td>\n      <td>-</td>\n      <td>['Stars:Lauren Graham', 'Alexis Bledel', 'Keik...</td>\n      <td>96,570</td>\n      <td>-</td>\n      <td>TV Series</td>\n      <td>2000</td>\n      <td>2007</td>\n    </tr>\n    <tr>\n      <th>73</th>\n      <td>Community</td>\n      <td>2009–2015</td>\n      <td>22</td>\n      <td>Comedy</td>\n      <td>-</td>\n      <td>-</td>\n      <td>8.5</td>\n      <td>-</td>\n      <td>A suspended lawyer is forced to enroll in a co...</td>\n      <td>-</td>\n      <td>['Stars:Joel McHale', 'Danny Pudi', 'Donald Gl...</td>\n      <td>208,555</td>\n      <td>-</td>\n      <td>TV Series</td>\n      <td>2009</td>\n      <td>2015</td>\n    </tr>\n    <tr>\n      <th>74</th>\n      <td>Big Bang: A Teoria</td>\n      <td>2007–2019</td>\n      <td>22</td>\n      <td>Comedy</td>\n      <td>Romance</td>\n      <td>-</td>\n      <td>8.1</td>\n      <td>-</td>\n      <td>A woman who moves into an apartment across the...</td>\n      <td>-</td>\n      <td>['Stars:Johnny Galecki', 'Jim Parsons', 'Kaley...</td>\n      <td>704,510</td>\n      <td>-</td>\n      <td>TV Series</td>\n      <td>2007</td>\n      <td>2019</td>\n    </tr>\n    <tr>\n      <th>76</th>\n      <td>Os Fantasmas se Divertem</td>\n      <td>1988</td>\n      <td>92</td>\n      <td>Comedy</td>\n      <td>Fantasy</td>\n      <td>-</td>\n      <td>7.5</td>\n      <td>-</td>\n      <td>The spirits of a deceased couple are harassed ...</td>\n      <td>Tim Burton</td>\n      <td>['Alec Baldwin', 'Geena Davis', 'Michael Keato...</td>\n      <td>255,396</td>\n      <td>$73.71M</td>\n      <td>Feature Film</td>\n      <td>1988</td>\n      <td>-</td>\n    </tr>\n    <tr>\n      <th>82</th>\n      <td>Entre Facas e Segredos</td>\n      <td>2019</td>\n      <td>130</td>\n      <td>Comedy</td>\n      <td>Crime</td>\n      <td>Drama</td>\n      <td>7.9</td>\n      <td>-</td>\n      <td>A detective investigates the death of a patria...</td>\n      <td>Rian Johnson</td>\n      <td>['Daniel Craig', 'Chris Evans', 'Ana de Armas'...</td>\n      <td>401,864</td>\n      <td>$165.36M</td>\n      <td>Feature Film</td>\n      <td>2019</td>\n      <td>-</td>\n    </tr>\n    <tr>\n      <th>93</th>\n      <td>Lei &amp; Desordem</td>\n      <td>2013–</td>\n      <td>22</td>\n      <td>Comedy</td>\n      <td>Crime</td>\n      <td>-</td>\n      <td>8.4</td>\n      <td>-</td>\n      <td>\"Brooklyn Nine-Nine\" follows the exploits of h...</td>\n      <td>-</td>\n      <td>['Stars:Andy Samberg', 'Stephanie Beatriz', 'T...</td>\n      <td>209,739</td>\n      <td>-</td>\n      <td>TV Series</td>\n      <td>2013</td>\n      <td>ongoing</td>\n    </tr>\n  </tbody>\n</table>\n</div>"
          },
          "metadata": {},
          "execution_count": 19
        }
      ],
      "source": [
        "df_movies.loc[df_movies['Genre_1'] == genero]"
      ]
    },
    {
      "cell_type": "code",
      "execution_count": 23,
      "metadata": {},
      "outputs": [
        {
          "output_type": "execute_result",
          "data": {
            "text/plain": [
              "Empty DataFrame\n",
              "Columns: [Title, Year, Runtime, Genre_1, Genre_2, Genre_3, Rating, Score, Description, Director, Stars, Votes, Gross, Title Type, Year (Begin), Year (End)]\n",
              "Index: []"
            ],
            "text/html": "<div>\n<style scoped>\n    .dataframe tbody tr th:only-of-type {\n        vertical-align: middle;\n    }\n\n    .dataframe tbody tr th {\n        vertical-align: top;\n    }\n\n    .dataframe thead th {\n        text-align: right;\n    }\n</style>\n<table border=\"1\" class=\"dataframe\">\n  <thead>\n    <tr style=\"text-align: right;\">\n      <th></th>\n      <th>Title</th>\n      <th>Year</th>\n      <th>Runtime</th>\n      <th>Genre_1</th>\n      <th>Genre_2</th>\n      <th>Genre_3</th>\n      <th>Rating</th>\n      <th>Score</th>\n      <th>Description</th>\n      <th>Director</th>\n      <th>Stars</th>\n      <th>Votes</th>\n      <th>Gross</th>\n      <th>Title Type</th>\n      <th>Year (Begin)</th>\n      <th>Year (End)</th>\n    </tr>\n  </thead>\n  <tbody>\n  </tbody>\n</table>\n</div>"
          },
          "metadata": {},
          "execution_count": 23
        }
      ],
      "source": []
    },
    {
      "cell_type": "code",
      "execution_count": 24,
      "metadata": {},
      "outputs": [
        {
          "output_type": "execute_result",
          "data": {
            "text/plain": [
              "Empty DataFrame\n",
              "Columns: [Title, Year, Runtime, Genre_1, Genre_2, Genre_3, Rating, Score, Description, Director, Stars, Votes, Gross, Title Type, Year (Begin), Year (End)]\n",
              "Index: []"
            ],
            "text/html": "<div>\n<style scoped>\n    .dataframe tbody tr th:only-of-type {\n        vertical-align: middle;\n    }\n\n    .dataframe tbody tr th {\n        vertical-align: top;\n    }\n\n    .dataframe thead th {\n        text-align: right;\n    }\n</style>\n<table border=\"1\" class=\"dataframe\">\n  <thead>\n    <tr style=\"text-align: right;\">\n      <th></th>\n      <th>Title</th>\n      <th>Year</th>\n      <th>Runtime</th>\n      <th>Genre_1</th>\n      <th>Genre_2</th>\n      <th>Genre_3</th>\n      <th>Rating</th>\n      <th>Score</th>\n      <th>Description</th>\n      <th>Director</th>\n      <th>Stars</th>\n      <th>Votes</th>\n      <th>Gross</th>\n      <th>Title Type</th>\n      <th>Year (Begin)</th>\n      <th>Year (End)</th>\n    </tr>\n  </thead>\n  <tbody>\n  </tbody>\n</table>\n</div>"
          },
          "metadata": {},
          "execution_count": 24
        }
      ],
      "source": []
    }
  ]
}